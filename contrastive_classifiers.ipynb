{
 "cells": [
  {
   "cell_type": "code",
   "execution_count": 1,
   "metadata": {},
   "outputs": [],
   "source": [
    "import torch\n",
    "import torch.nn as nn\n",
    "import torch.nn.functional as F"
   ]
  },
  {
   "cell_type": "code",
   "execution_count": 2,
   "metadata": {},
   "outputs": [
    {
     "name": "stderr",
     "output_type": "stream",
     "text": [
      "/ibex/scratch/gasanoe/unlearning/env/lib/python3.11/site-packages/tqdm/auto.py:21: TqdmWarning: IProgress not found. Please update jupyter and ipywidgets. See https://ipywidgets.readthedocs.io/en/stable/user_install.html\n",
      "  from .autonotebook import tqdm as notebook_tqdm\n"
     ]
    }
   ],
   "source": [
    "from models import get_model"
   ]
  },
  {
   "cell_type": "code",
   "execution_count": 3,
   "metadata": {},
   "outputs": [],
   "source": [
    "import data"
   ]
  },
  {
   "cell_type": "markdown",
   "metadata": {},
   "source": [
    "# Scalar Product Classifier Performance"
   ]
  },
  {
   "cell_type": "markdown",
   "metadata": {},
   "source": [
    "## Defining the new classifier"
   ]
  },
  {
   "cell_type": "code",
   "execution_count": 4,
   "metadata": {},
   "outputs": [],
   "source": [
    "class ScalarProductClassifier(nn.Module):\n",
    "    def __init__(self):\n",
    "        super(ScalarProductClassifier, self).__init__()\n",
    "    \n",
    "    def forward(self, input1, input2):\n",
    "        output = torch.sum(input1 * input2, dim=1)\n",
    "        # output = torch.sigmoid(output)\n",
    "        return output"
   ]
  },
  {
   "cell_type": "markdown",
   "metadata": {},
   "source": [
    "## Loading the model"
   ]
  },
  {
   "cell_type": "code",
   "execution_count": 5,
   "metadata": {},
   "outputs": [
    {
     "name": "stdout",
     "output_type": "stream",
     "text": [
      "Loaded weights from /home/gasanoe/HOME_SCRATCH_FOLDER/unlearning/logs/model_resnet18_sam_True_rho_0.5_lr_0.1_07-03-09:33:15_model.pth\n",
      "Model 'resnet18' loaded successfully!\n",
      "Number of layers: 62\n",
      "Total parameters: 11227812\n",
      "Trainable parameters: 11227812\n"
     ]
    }
   ],
   "source": [
    "weight_path = '/home/gasanoe/HOME_SCRATCH_FOLDER/unlearning/logs/model_resnet18_sam_True_rho_0.5_lr_0.1_07-03-09:33:15_model.pth'\n",
    "model = get_model('resnet18', num_classes=100, pretrained_weights=None, weight_path=weight_path)"
   ]
  },
  {
   "cell_type": "markdown",
   "metadata": {},
   "source": [
    "## Generating the loaders"
   ]
  },
  {
   "cell_type": "code",
   "execution_count": 6,
   "metadata": {},
   "outputs": [
    {
     "name": "stdout",
     "output_type": "stream",
     "text": [
      "Files already downloaded and verified\n",
      "Files already downloaded and verified\n"
     ]
    }
   ],
   "source": [
    "dataset_handler = data.CIFAR100Handler(batch_size=128,\n",
    "                                       validation_split=0.1,\n",
    "                                       random_seed=42,\n",
    "                                       data_dir='/home/gasanoe/HOME_SCRATCH_FOLDER/unlearning/data/cifar100')\n",
    "train_loader, val_loader, test_loader = dataset_handler.get_dataloaders()"
   ]
  },
  {
   "cell_type": "markdown",
   "metadata": {},
   "source": [
    "## Distribution of representations"
   ]
  },
  {
   "cell_type": "markdown",
   "metadata": {},
   "source": [
    "### Distribution independent from classes (unsupervised fashion)"
   ]
  },
  {
   "cell_type": "code",
   "execution_count": 7,
   "metadata": {},
   "outputs": [],
   "source": [
    "device = torch.device('cuda')\n",
    "model = model.to(device)"
   ]
  },
  {
   "cell_type": "code",
   "execution_count": 8,
   "metadata": {},
   "outputs": [],
   "source": [
    "all_scores_same_sets = torch.empty(0, 1, dtype=torch.float).to(device)\n",
    "all_scores_different_sets = torch.empty(0, 1, dtype=torch.float).to(device)\n",
    "classifier = ScalarProductClassifier().to(device)"
   ]
  },
  {
   "cell_type": "code",
   "execution_count": 8,
   "metadata": {},
   "outputs": [],
   "source": [
    "def get_all_same_set_scores(loader, model, device, classifier):\n",
    "    model.eval()\n",
    "    all_scores = torch.empty(0, 1).to(device)\n",
    "    with torch.no_grad():\n",
    "        for batch in loader:\n",
    "            inputs, labels = batch\n",
    "            inputs, labels = inputs.to(device), labels.to(device)\n",
    "            \n",
    "            outputs = model(inputs)\n",
    "\n",
    "            shuffled_indices = torch.randperm(outputs.size(0))\n",
    "            shuffled_outputs = outputs[shuffled_indices]\n",
    "\n",
    "            same_set_scores = classifier(outputs, shuffled_outputs).unsqueeze(1)\n",
    "            all_scores = torch.cat([all_scores, same_set_scores], dim=0)\n",
    "    return all_scores"
   ]
  },
  {
   "cell_type": "code",
   "execution_count": 10,
   "metadata": {},
   "outputs": [],
   "source": [
    "train_same_set_scores = get_all_same_set_scores(train_loader, model, device, classifier)\n",
    "val_same_set_scores = get_all_same_set_scores(val_loader, model, device, classifier)"
   ]
  },
  {
   "cell_type": "code",
   "execution_count": 11,
   "metadata": {},
   "outputs": [],
   "source": [
    "all_scores_same_sets = torch.cat((train_same_set_scores, val_same_set_scores), dim=0)"
   ]
  },
  {
   "cell_type": "code",
   "execution_count": 9,
   "metadata": {},
   "outputs": [],
   "source": [
    "import gc"
   ]
  },
  {
   "cell_type": "code",
   "execution_count": 10,
   "metadata": {},
   "outputs": [],
   "source": [
    "def get_all_different_set_scores(loader_1, loader_2, model, device, classifier, n_epochs=3):\n",
    "    model.eval()\n",
    "    all_scores = torch.empty(0, 1,  dtype=torch.float).to(device)\n",
    "    with torch.no_grad():\n",
    "        for epoch in range(n_epochs):\n",
    "            print(f'Epoch {epoch}')\n",
    "            for batch_num, (batch_1, batch_2) in enumerate(zip(loader_1, loader_2)):\n",
    "                print(f'Batch num {batch_num}')\n",
    "                inputs_1, labels_1 = batch_1\n",
    "                inputs_2, labels_2 = batch_2\n",
    "\n",
    "                # Ensure sizes match\n",
    "                if inputs_1.size(0) != inputs_2.size(0):\n",
    "                    min_batch_size = min(inputs_1.size(0), inputs_2.size(0))\n",
    "                    inputs_1, labels_1 = inputs_1[:min_batch_size], labels_1[:min_batch_size]\n",
    "                    inputs_2, labels_2 = inputs_2[:min_batch_size], labels_2[:min_batch_size]\n",
    "\n",
    "                inputs_1, labels_1 = inputs_1.to(device), labels_1.to(device)\n",
    "                inputs_2, labels_2 = inputs_2.to(device), labels_2.to(device)\n",
    "\n",
    "                \n",
    "                outputs_1 = model(inputs_1)\n",
    "                outputs_2 = model(inputs_2)\n",
    "\n",
    "                shuffled_indices = torch.randperm(outputs_2.size(0))\n",
    "                outputs_2 = outputs_2[shuffled_indices]\n",
    "\n",
    "                different_sets_scores = classifier(outputs_1, outputs_2).unsqueeze(1)\n",
    "                all_scores = torch.cat([all_scores, different_sets_scores], dim=0)\n",
    "\n",
    "                del inputs_1, labels_1, inputs_2, labels_2, outputs_1, outputs_2, different_sets_scores\n",
    "                torch.cuda.empty_cache()\n",
    "                gc.collect()\n",
    "    return all_scores"
   ]
  },
  {
   "cell_type": "code",
   "execution_count": 14,
   "metadata": {},
   "outputs": [
    {
     "name": "stdout",
     "output_type": "stream",
     "text": [
      "Epoch 0\n",
      "Batch num 0\n",
      "Batch num 1\n",
      "Batch num 2\n",
      "Batch num 3\n",
      "Batch num 4\n",
      "Batch num 5\n",
      "Batch num 6\n",
      "Batch num 7\n",
      "Batch num 8\n",
      "Batch num 9\n",
      "Batch num 10\n",
      "Batch num 11\n",
      "Batch num 12\n",
      "Batch num 13\n",
      "Batch num 14\n",
      "Batch num 15\n",
      "Batch num 16\n",
      "Batch num 17\n",
      "Batch num 18\n",
      "Batch num 19\n",
      "Batch num 20\n",
      "Batch num 21\n",
      "Batch num 22\n",
      "Batch num 23\n",
      "Batch num 24\n",
      "Batch num 25\n",
      "Batch num 26\n",
      "Batch num 27\n",
      "Batch num 28\n",
      "Batch num 29\n",
      "Batch num 30\n",
      "Batch num 31\n",
      "Batch num 32\n",
      "Batch num 33\n",
      "Batch num 34\n",
      "Batch num 35\n",
      "Batch num 36\n",
      "Batch num 37\n",
      "Batch num 38\n",
      "Batch num 39\n",
      "Epoch 1\n",
      "Batch num 0\n",
      "Batch num 1\n",
      "Batch num 2\n",
      "Batch num 3\n",
      "Batch num 4\n",
      "Batch num 5\n",
      "Batch num 6\n",
      "Batch num 7\n",
      "Batch num 8\n",
      "Batch num 9\n",
      "Batch num 10\n",
      "Batch num 11\n",
      "Batch num 12\n",
      "Batch num 13\n",
      "Batch num 14\n",
      "Batch num 15\n",
      "Batch num 16\n",
      "Batch num 17\n",
      "Batch num 18\n",
      "Batch num 19\n",
      "Batch num 20\n",
      "Batch num 21\n",
      "Batch num 22\n",
      "Batch num 23\n",
      "Batch num 24\n",
      "Batch num 25\n",
      "Batch num 26\n",
      "Batch num 27\n",
      "Batch num 28\n",
      "Batch num 29\n",
      "Batch num 30\n",
      "Batch num 31\n",
      "Batch num 32\n",
      "Batch num 33\n",
      "Batch num 34\n",
      "Batch num 35\n",
      "Batch num 36\n",
      "Batch num 37\n",
      "Batch num 38\n",
      "Batch num 39\n",
      "Epoch 2\n",
      "Batch num 0\n",
      "Batch num 1\n",
      "Batch num 2\n",
      "Batch num 3\n",
      "Batch num 4\n",
      "Batch num 5\n",
      "Batch num 6\n",
      "Batch num 7\n",
      "Batch num 8\n",
      "Batch num 9\n",
      "Batch num 10\n",
      "Batch num 11\n",
      "Batch num 12\n",
      "Batch num 13\n",
      "Batch num 14\n",
      "Batch num 15\n",
      "Batch num 16\n",
      "Batch num 17\n",
      "Batch num 18\n",
      "Batch num 19\n",
      "Batch num 20\n",
      "Batch num 21\n",
      "Batch num 22\n",
      "Batch num 23\n",
      "Batch num 24\n",
      "Batch num 25\n",
      "Batch num 26\n",
      "Batch num 27\n",
      "Batch num 28\n",
      "Batch num 29\n",
      "Batch num 30\n",
      "Batch num 31\n",
      "Batch num 32\n",
      "Batch num 33\n",
      "Batch num 34\n",
      "Batch num 35\n",
      "Batch num 36\n",
      "Batch num 37\n",
      "Batch num 38\n",
      "Batch num 39\n",
      "Epoch 3\n",
      "Batch num 0\n",
      "Batch num 1\n",
      "Batch num 2\n",
      "Batch num 3\n",
      "Batch num 4\n",
      "Batch num 5\n",
      "Batch num 6\n",
      "Batch num 7\n",
      "Batch num 8\n",
      "Batch num 9\n",
      "Batch num 10\n",
      "Batch num 11\n",
      "Batch num 12\n",
      "Batch num 13\n",
      "Batch num 14\n",
      "Batch num 15\n",
      "Batch num 16\n",
      "Batch num 17\n",
      "Batch num 18\n",
      "Batch num 19\n",
      "Batch num 20\n",
      "Batch num 21\n",
      "Batch num 22\n",
      "Batch num 23\n",
      "Batch num 24\n",
      "Batch num 25\n",
      "Batch num 26\n",
      "Batch num 27\n",
      "Batch num 28\n",
      "Batch num 29\n",
      "Batch num 30\n",
      "Batch num 31\n",
      "Batch num 32\n",
      "Batch num 33\n",
      "Batch num 34\n",
      "Batch num 35\n",
      "Batch num 36\n",
      "Batch num 37\n",
      "Batch num 38\n",
      "Batch num 39\n",
      "Epoch 4\n",
      "Batch num 0\n",
      "Batch num 1\n",
      "Batch num 2\n",
      "Batch num 3\n",
      "Batch num 4\n",
      "Batch num 5\n",
      "Batch num 6\n",
      "Batch num 7\n",
      "Batch num 8\n",
      "Batch num 9\n",
      "Batch num 10\n",
      "Batch num 11\n",
      "Batch num 12\n",
      "Batch num 13\n",
      "Batch num 14\n",
      "Batch num 15\n",
      "Batch num 16\n",
      "Batch num 17\n",
      "Batch num 18\n",
      "Batch num 19\n",
      "Batch num 20\n",
      "Batch num 21\n",
      "Batch num 22\n",
      "Batch num 23\n",
      "Batch num 24\n",
      "Batch num 25\n",
      "Batch num 26\n",
      "Batch num 27\n",
      "Batch num 28\n",
      "Batch num 29\n",
      "Batch num 30\n",
      "Batch num 31\n",
      "Batch num 32\n",
      "Batch num 33\n",
      "Batch num 34\n",
      "Batch num 35\n",
      "Batch num 36\n",
      "Batch num 37\n",
      "Batch num 38\n",
      "Batch num 39\n"
     ]
    }
   ],
   "source": [
    "all_scores_different_sets = get_all_different_set_scores(train_loader, val_loader, model, device, classifier, 5)"
   ]
  },
  {
   "cell_type": "markdown",
   "metadata": {},
   "source": [
    "### Plotting scores"
   ]
  },
  {
   "cell_type": "code",
   "execution_count": 15,
   "metadata": {},
   "outputs": [],
   "source": [
    "from matplotlib import pyplot as plt"
   ]
  },
  {
   "cell_type": "code",
   "execution_count": 16,
   "metadata": {},
   "outputs": [],
   "source": [
    "import numpy as np"
   ]
  },
  {
   "cell_type": "code",
   "execution_count": 17,
   "metadata": {},
   "outputs": [],
   "source": [
    "all_scores_same_sets = all_scores_same_sets.cpu().numpy().squeeze(1)\n",
    "all_scores_different_sets = all_scores_different_sets.cpu().numpy().squeeze(1)"
   ]
  },
  {
   "cell_type": "code",
   "execution_count": 18,
   "metadata": {},
   "outputs": [
    {
     "data": {
      "text/plain": [
       "50000"
      ]
     },
     "execution_count": 18,
     "metadata": {},
     "output_type": "execute_result"
    }
   ],
   "source": [
    "len(all_scores_same_sets)"
   ]
  },
  {
   "cell_type": "code",
   "execution_count": 19,
   "metadata": {},
   "outputs": [],
   "source": [
    "all_scores_same_sets = np.sort(all_scores_same_sets)\n",
    "all_scores_different_sets = np.sort(all_scores_different_sets)"
   ]
  },
  {
   "cell_type": "code",
   "execution_count": 20,
   "metadata": {},
   "outputs": [
    {
     "data": {
      "text/plain": [
       "<matplotlib.collections.PathCollection at 0x14fb6cd80890>"
      ]
     },
     "execution_count": 20,
     "metadata": {},
     "output_type": "execute_result"
    },
    {
     "data": {
      "image/png": "[encoded data removed]",
      "text/plain": [
       "<Figure size 640x480 with 1 Axes>"
      ]
     },
     "metadata": {},
     "output_type": "display_data"
    }
   ],
   "source": [
    "plt.scatter(x = np.zeros(all_scores_same_sets.size), y = all_scores_same_sets)\n",
    "plt.scatter(x = np.ones(all_scores_different_sets.size), y = all_scores_different_sets)"
   ]
  },
  {
   "cell_type": "code",
   "execution_count": 21,
   "metadata": {},
   "outputs": [
    {
     "data": {
      "text/plain": [
       "<matplotlib.legend.Legend at 0x14fb7eaa0490>"
      ]
     },
     "execution_count": 21,
     "metadata": {},
     "output_type": "execute_result"
    },
    {
     "data": {
      "image/png": "[encoded data removed]",
      "text/plain": [
       "<Figure size 640x480 with 1 Axes>"
      ]
     },
     "metadata": {},
     "output_type": "display_data"
    }
   ],
   "source": [
    "plt.plot(np.linspace(start=0, stop=1., num=len(all_scores_same_sets)), all_scores_same_sets, label='same sets scores')\n",
    "plt.plot(np.linspace(start=0, stop=1., num=len(all_scores_different_sets)), all_scores_different_sets, label='diff sets scores')\n",
    "plt.legend()"
   ]
  },
  {
   "cell_type": "code",
   "execution_count": 22,
   "metadata": {},
   "outputs": [],
   "source": [
    "all_scores_same_sets_middle = np.array([x for x in all_scores_same_sets if -100. <= x <= 100.])"
   ]
  },
  {
   "cell_type": "code",
   "execution_count": 23,
   "metadata": {},
   "outputs": [
    {
     "data": {
      "image/png": "[encoded data removed]",
      "text/plain": [
       "<Figure size 640x480 with 1 Axes>"
      ]
     },
     "metadata": {},
     "output_type": "display_data"
    }
   ],
   "source": [
    "plt.hist(all_scores_same_sets_middle, bins=50)\n",
    "plt.title('Distribution of scalar products for same set representations')\n",
    "plt.xlabel('scalar product')\n",
    "plt.ylabel('number of instances')\n",
    "plt.tight_layout()"
   ]
  },
  {
   "cell_type": "code",
   "execution_count": 24,
   "metadata": {},
   "outputs": [],
   "source": [
    "all_scores_different_sets_middle = np.array([x for x in all_scores_different_sets if -100. <= x <= 100.])"
   ]
  },
  {
   "cell_type": "code",
   "execution_count": 25,
   "metadata": {},
   "outputs": [
    {
     "name": "stderr",
     "output_type": "stream",
     "text": [
      "No artists with labels found to put in legend.  Note that artists whose label start with an underscore are ignored when legend() is called with no argument.\n"
     ]
    },
    {
     "data": {
      "text/plain": [
       "<matplotlib.legend.Legend at 0x14fb7cdf0ed0>"
      ]
     },
     "execution_count": 25,
     "metadata": {},
     "output_type": "execute_result"
    },
    {
     "data": {
      "image/png": "[encoded data removed]",
      "text/plain": [
       "<Figure size 640x480 with 1 Axes>"
      ]
     },
     "metadata": {},
     "output_type": "display_data"
    }
   ],
   "source": [
    "plt.hist(all_scores_different_sets_middle, bins=50)\n",
    "plt.title('Distribution of scalar products for different sets representations')\n",
    "plt.xlabel('scalar product')\n",
    "plt.ylabel('number of instances')\n",
    "plt.tight_layout()\n",
    "plt.legend()"
   ]
  },
  {
   "cell_type": "markdown",
   "metadata": {},
   "source": [
    "# Supervised contrast"
   ]
  },
  {
   "cell_type": "code",
   "execution_count": 11,
   "metadata": {},
   "outputs": [],
   "source": [
    "import copy"
   ]
  },
  {
   "cell_type": "code",
   "execution_count": 12,
   "metadata": {},
   "outputs": [],
   "source": [
    "from data import CorrespondingLoaders"
   ]
  },
  {
   "cell_type": "code",
   "execution_count": 13,
   "metadata": {},
   "outputs": [
    {
     "name": "stdout",
     "output_type": "stream",
     "text": [
      "Dataset CIFAR100\n",
      "    Number of datapoints: 50000\n",
      "    Root location: /home/gasanoe/HOME_SCRATCH_FOLDER/unlearning/data/cifar100\n",
      "    Split: Train\n",
      "    StandardTransform\n",
      "Transform: Compose(\n",
      "               RandomCrop(size=(32, 32), padding=4)\n",
      "               RandomHorizontalFlip(p=0.5)\n",
      "               ToTensor()\n",
      "               Normalize(mean=(0.5071, 0.4867, 0.4408), std=(0.2675, 0.2565, 0.2761))\n",
      "           )\n",
      "Dataset CIFAR100\n",
      "    Number of datapoints: 50000\n",
      "    Root location: /home/gasanoe/HOME_SCRATCH_FOLDER/unlearning/data/cifar100\n",
      "    Split: Train\n",
      "    StandardTransform\n",
      "Transform: Compose(\n",
      "               RandomCrop(size=(32, 32), padding=4)\n",
      "               RandomHorizontalFlip(p=0.5)\n",
      "               ToTensor()\n",
      "               Normalize(mean=(0.5071, 0.4867, 0.4408), std=(0.2675, 0.2565, 0.2761))\n",
      "           )\n"
     ]
    }
   ],
   "source": [
    "train_train_1_loader, train_train_2_loader = CorrespondingLoaders(train_loader, train_loader, seed=5).get_loaders()"
   ]
  },
  {
   "cell_type": "code",
   "execution_count": 14,
   "metadata": {},
   "outputs": [
    {
     "name": "stdout",
     "output_type": "stream",
     "text": [
      "Dataset CIFAR100\n",
      "    Number of datapoints: 50000\n",
      "    Root location: /home/gasanoe/HOME_SCRATCH_FOLDER/unlearning/data/cifar100\n",
      "    Split: Train\n",
      "    StandardTransform\n",
      "Transform: Compose(\n",
      "               RandomCrop(size=(32, 32), padding=4)\n",
      "               RandomHorizontalFlip(p=0.5)\n",
      "               ToTensor()\n",
      "               Normalize(mean=(0.5071, 0.4867, 0.4408), std=(0.2675, 0.2565, 0.2761))\n",
      "           )\n",
      "Dataset CIFAR100\n",
      "    Number of datapoints: 50000\n",
      "    Root location: /home/gasanoe/HOME_SCRATCH_FOLDER/unlearning/data/cifar100\n",
      "    Split: Train\n",
      "    StandardTransform\n",
      "Transform: Compose(\n",
      "               RandomCrop(size=(32, 32), padding=4)\n",
      "               RandomHorizontalFlip(p=0.5)\n",
      "               ToTensor()\n",
      "               Normalize(mean=(0.5071, 0.4867, 0.4408), std=(0.2675, 0.2565, 0.2761))\n",
      "           )\n"
     ]
    }
   ],
   "source": [
    "val_val_1_loader, val_val_2_loader = CorrespondingLoaders(val_loader, val_loader, seed=20).get_loaders()"
   ]
  },
  {
   "cell_type": "code",
   "execution_count": 15,
   "metadata": {},
   "outputs": [
    {
     "name": "stdout",
     "output_type": "stream",
     "text": [
      "Dataset CIFAR100\n",
      "    Number of datapoints: 50000\n",
      "    Root location: /home/gasanoe/HOME_SCRATCH_FOLDER/unlearning/data/cifar100\n",
      "    Split: Train\n",
      "    StandardTransform\n",
      "Transform: Compose(\n",
      "               RandomCrop(size=(32, 32), padding=4)\n",
      "               RandomHorizontalFlip(p=0.5)\n",
      "               ToTensor()\n",
      "               Normalize(mean=(0.5071, 0.4867, 0.4408), std=(0.2675, 0.2565, 0.2761))\n",
      "           )\n",
      "Dataset CIFAR100\n",
      "    Number of datapoints: 50000\n",
      "    Root location: /home/gasanoe/HOME_SCRATCH_FOLDER/unlearning/data/cifar100\n",
      "    Split: Train\n",
      "    StandardTransform\n",
      "Transform: Compose(\n",
      "               RandomCrop(size=(32, 32), padding=4)\n",
      "               RandomHorizontalFlip(p=0.5)\n",
      "               ToTensor()\n",
      "               Normalize(mean=(0.5071, 0.4867, 0.4408), std=(0.2675, 0.2565, 0.2761))\n",
      "           )\n"
     ]
    }
   ],
   "source": [
    "train_val_1_loader, train_val_2_loader = CorrespondingLoaders(train_loader, val_loader, seed=15).get_loaders()"
   ]
  },
  {
   "cell_type": "code",
   "execution_count": 16,
   "metadata": {},
   "outputs": [],
   "source": [
    "def get_all_same_set_scores_synchronized(loader_1, loader_2, model, device, classifier):\n",
    "    model.eval()\n",
    "    all_scores = torch.empty(0, 1).to(device)\n",
    "    with torch.no_grad():\n",
    "        for batch_1, batch_2 in zip(loader_1, loader_2):\n",
    "            inputs_1, labels_1 = batch_1\n",
    "            inputs_2, labels_2 = batch_2\n",
    "            assert labels_1.eq(labels_2).all()\n",
    "            assert inputs_1.ne(inputs_2).any()\n",
    "            inputs_1, labels_1 = inputs_1.to(device), labels_1.to(device)\n",
    "            inputs_2, labels_2 = inputs_2.to(device), labels_2.to(device)\n",
    "            \n",
    "            outputs_1 = model(inputs_1)\n",
    "            outputs_2 = model(inputs_2)\n",
    "\n",
    "            same_set_scores = classifier(outputs_1, outputs_2).unsqueeze(1)\n",
    "            all_scores = torch.cat([all_scores, same_set_scores], dim=0)\n",
    "    return all_scores"
   ]
  },
  {
   "cell_type": "code",
   "execution_count": 32,
   "metadata": {},
   "outputs": [],
   "source": [
    "train_same_set_scores_sync = get_all_same_set_scores_synchronized(train_train_1_loader, train_train_2_loader, model, device, classifier)"
   ]
  },
  {
   "cell_type": "code",
   "execution_count": 33,
   "metadata": {},
   "outputs": [],
   "source": [
    "val_same_set_scores_sync = get_all_same_set_scores_synchronized(val_val_1_loader, val_val_2_loader, model, device, classifier)"
   ]
  },
  {
   "cell_type": "code",
   "execution_count": 34,
   "metadata": {},
   "outputs": [],
   "source": [
    "all_scores_same_sets_synchronized = torch.cat((train_same_set_scores_sync, val_same_set_scores_sync), dim=0)"
   ]
  },
  {
   "cell_type": "code",
   "execution_count": 35,
   "metadata": {},
   "outputs": [
    {
     "name": "stdout",
     "output_type": "stream",
     "text": [
      "Epoch 0\n",
      "Batch num 0\n",
      "Batch num 1\n",
      "Batch num 2\n",
      "Batch num 3\n",
      "Batch num 4\n",
      "Batch num 5\n",
      "Batch num 6\n",
      "Batch num 7\n",
      "Batch num 8\n",
      "Batch num 9\n",
      "Batch num 10\n",
      "Batch num 11\n",
      "Batch num 12\n",
      "Batch num 13\n",
      "Batch num 14\n",
      "Batch num 15\n",
      "Batch num 16\n",
      "Batch num 17\n",
      "Batch num 18\n",
      "Batch num 19\n",
      "Batch num 20\n",
      "Batch num 21\n",
      "Batch num 22\n",
      "Batch num 23\n",
      "Batch num 24\n",
      "Batch num 25\n",
      "Batch num 26\n",
      "Batch num 27\n",
      "Batch num 28\n",
      "Batch num 29\n",
      "Batch num 30\n",
      "Batch num 31\n",
      "Batch num 32\n",
      "Batch num 33\n",
      "Batch num 34\n",
      "Batch num 35\n",
      "Batch num 36\n",
      "Batch num 37\n",
      "Batch num 38\n",
      "Batch num 39\n",
      "Batch num 40\n",
      "Batch num 41\n",
      "Batch num 42\n",
      "Batch num 43\n",
      "Batch num 44\n",
      "Batch num 45\n",
      "Batch num 46\n",
      "Batch num 47\n",
      "Batch num 48\n",
      "Batch num 49\n",
      "Batch num 50\n",
      "Batch num 51\n",
      "Batch num 52\n",
      "Batch num 53\n",
      "Batch num 54\n",
      "Batch num 55\n",
      "Batch num 56\n",
      "Batch num 57\n",
      "Batch num 58\n",
      "Batch num 59\n",
      "Batch num 60\n",
      "Batch num 61\n",
      "Batch num 62\n",
      "Batch num 63\n",
      "Batch num 64\n",
      "Batch num 65\n",
      "Batch num 66\n",
      "Batch num 67\n",
      "Batch num 68\n",
      "Batch num 69\n",
      "Batch num 70\n",
      "Batch num 71\n",
      "Batch num 72\n",
      "Batch num 73\n",
      "Batch num 74\n",
      "Batch num 75\n",
      "Batch num 76\n",
      "Batch num 77\n",
      "Batch num 78\n",
      "Batch num 79\n",
      "Batch num 80\n",
      "Batch num 81\n",
      "Batch num 82\n",
      "Batch num 83\n",
      "Batch num 84\n",
      "Batch num 85\n",
      "Batch num 86\n",
      "Batch num 87\n",
      "Batch num 88\n",
      "Batch num 89\n",
      "Batch num 90\n",
      "Batch num 91\n",
      "Batch num 92\n",
      "Batch num 93\n",
      "Batch num 94\n",
      "Batch num 95\n",
      "Batch num 96\n",
      "Batch num 97\n",
      "Batch num 98\n",
      "Batch num 99\n",
      "Batch num 100\n",
      "Batch num 101\n",
      "Batch num 102\n",
      "Batch num 103\n",
      "Batch num 104\n",
      "Batch num 105\n",
      "Batch num 106\n",
      "Batch num 107\n",
      "Batch num 108\n",
      "Batch num 109\n",
      "Batch num 110\n",
      "Batch num 111\n",
      "Batch num 112\n",
      "Batch num 113\n",
      "Batch num 114\n",
      "Batch num 115\n",
      "Batch num 116\n",
      "Batch num 117\n",
      "Batch num 118\n",
      "Batch num 119\n",
      "Batch num 120\n",
      "Batch num 121\n",
      "Batch num 122\n",
      "Batch num 123\n",
      "Batch num 124\n",
      "Batch num 125\n",
      "Batch num 126\n",
      "Batch num 127\n",
      "Batch num 128\n",
      "Batch num 129\n",
      "Batch num 130\n",
      "Batch num 131\n",
      "Batch num 132\n",
      "Batch num 133\n",
      "Batch num 134\n",
      "Batch num 135\n",
      "Batch num 136\n",
      "Batch num 137\n",
      "Batch num 138\n",
      "Batch num 139\n",
      "Batch num 140\n",
      "Batch num 141\n",
      "Batch num 142\n",
      "Batch num 143\n",
      "Batch num 144\n",
      "Batch num 145\n",
      "Batch num 146\n",
      "Batch num 147\n",
      "Batch num 148\n",
      "Batch num 149\n",
      "Batch num 150\n",
      "Batch num 151\n",
      "Batch num 152\n",
      "Batch num 153\n",
      "Batch num 154\n",
      "Batch num 155\n",
      "Batch num 156\n",
      "Batch num 157\n",
      "Batch num 158\n",
      "Batch num 159\n",
      "Batch num 160\n",
      "Batch num 161\n",
      "Batch num 162\n",
      "Batch num 163\n",
      "Batch num 164\n",
      "Batch num 165\n",
      "Batch num 166\n",
      "Batch num 167\n",
      "Batch num 168\n",
      "Batch num 169\n",
      "Batch num 170\n",
      "Batch num 171\n",
      "Batch num 172\n",
      "Batch num 173\n",
      "Batch num 174\n",
      "Batch num 175\n",
      "Batch num 176\n",
      "Batch num 177\n",
      "Batch num 178\n",
      "Batch num 179\n",
      "Batch num 180\n",
      "Batch num 181\n",
      "Batch num 182\n",
      "Batch num 183\n",
      "Batch num 184\n",
      "Batch num 185\n",
      "Batch num 186\n",
      "Batch num 187\n",
      "Batch num 188\n",
      "Batch num 189\n",
      "Batch num 190\n",
      "Batch num 191\n",
      "Batch num 192\n",
      "Batch num 193\n",
      "Batch num 194\n",
      "Batch num 195\n",
      "Batch num 196\n",
      "Batch num 197\n",
      "Batch num 198\n",
      "Batch num 199\n",
      "Batch num 200\n",
      "Batch num 201\n",
      "Batch num 202\n",
      "Batch num 203\n",
      "Batch num 204\n",
      "Batch num 205\n",
      "Batch num 206\n",
      "Batch num 207\n",
      "Batch num 208\n",
      "Batch num 209\n",
      "Batch num 210\n",
      "Batch num 211\n",
      "Batch num 212\n",
      "Batch num 213\n",
      "Batch num 214\n",
      "Batch num 215\n",
      "Batch num 216\n",
      "Batch num 217\n",
      "Batch num 218\n",
      "Batch num 219\n",
      "Batch num 220\n",
      "Batch num 221\n",
      "Batch num 222\n",
      "Batch num 223\n",
      "Batch num 224\n",
      "Batch num 225\n",
      "Batch num 226\n",
      "Batch num 227\n",
      "Batch num 228\n",
      "Batch num 229\n",
      "Batch num 230\n",
      "Batch num 231\n",
      "Batch num 232\n",
      "Batch num 233\n",
      "Batch num 234\n",
      "Batch num 235\n",
      "Batch num 236\n",
      "Batch num 237\n",
      "Batch num 238\n",
      "Batch num 239\n",
      "Batch num 240\n",
      "Batch num 241\n",
      "Batch num 242\n",
      "Batch num 243\n",
      "Batch num 244\n",
      "Batch num 245\n",
      "Batch num 246\n",
      "Batch num 247\n",
      "Batch num 248\n",
      "Batch num 249\n",
      "Batch num 250\n",
      "Batch num 251\n",
      "Batch num 252\n",
      "Batch num 253\n",
      "Batch num 254\n",
      "Batch num 255\n",
      "Batch num 256\n",
      "Batch num 257\n",
      "Batch num 258\n",
      "Batch num 259\n",
      "Batch num 260\n",
      "Batch num 261\n",
      "Batch num 262\n",
      "Batch num 263\n",
      "Batch num 264\n",
      "Batch num 265\n",
      "Batch num 266\n",
      "Batch num 267\n",
      "Batch num 268\n",
      "Batch num 269\n",
      "Batch num 270\n",
      "Batch num 271\n",
      "Batch num 272\n",
      "Batch num 273\n",
      "Batch num 274\n",
      "Batch num 275\n",
      "Batch num 276\n",
      "Batch num 277\n",
      "Batch num 278\n",
      "Batch num 279\n",
      "Batch num 280\n",
      "Batch num 281\n",
      "Batch num 282\n",
      "Batch num 283\n",
      "Batch num 284\n",
      "Batch num 285\n",
      "Batch num 286\n",
      "Batch num 287\n",
      "Batch num 288\n",
      "Batch num 289\n",
      "Batch num 290\n",
      "Batch num 291\n",
      "Batch num 292\n",
      "Batch num 293\n",
      "Batch num 294\n",
      "Batch num 295\n",
      "Batch num 296\n",
      "Batch num 297\n",
      "Batch num 298\n",
      "Batch num 299\n",
      "Batch num 300\n",
      "Batch num 301\n",
      "Batch num 302\n",
      "Batch num 303\n",
      "Batch num 304\n",
      "Batch num 305\n",
      "Batch num 306\n",
      "Batch num 307\n",
      "Batch num 308\n",
      "Batch num 309\n",
      "Batch num 310\n",
      "Batch num 311\n",
      "Batch num 312\n",
      "Batch num 313\n",
      "Batch num 314\n",
      "Batch num 315\n",
      "Batch num 316\n",
      "Batch num 317\n",
      "Batch num 318\n",
      "Batch num 319\n",
      "Batch num 320\n",
      "Batch num 321\n",
      "Batch num 322\n",
      "Batch num 323\n",
      "Batch num 324\n",
      "Batch num 325\n",
      "Batch num 326\n",
      "Batch num 327\n",
      "Batch num 328\n",
      "Batch num 329\n",
      "Batch num 330\n",
      "Batch num 331\n",
      "Batch num 332\n",
      "Batch num 333\n",
      "Batch num 334\n",
      "Batch num 335\n",
      "Batch num 336\n",
      "Batch num 337\n",
      "Batch num 338\n",
      "Batch num 339\n",
      "Batch num 340\n",
      "Batch num 341\n",
      "Batch num 342\n",
      "Batch num 343\n",
      "Batch num 344\n",
      "Batch num 345\n",
      "Batch num 346\n",
      "Batch num 347\n",
      "Batch num 348\n",
      "Batch num 349\n",
      "Batch num 350\n",
      "Batch num 351\n"
     ]
    }
   ],
   "source": [
    "all_scores_different_sets_synchronized = get_all_different_set_scores(train_val_1_loader, train_val_2_loader, model, device, classifier, n_epochs=1)"
   ]
  },
  {
   "cell_type": "code",
   "execution_count": 36,
   "metadata": {},
   "outputs": [],
   "source": [
    "all_scores_same_sets_synchronized = all_scores_same_sets_synchronized.cpu().numpy()\n",
    "all_scores_different_sets_synchronized = all_scores_different_sets_synchronized.cpu().numpy()"
   ]
  },
  {
   "cell_type": "code",
   "execution_count": 37,
   "metadata": {},
   "outputs": [],
   "source": [
    "all_scores_same_sets_synchronized = all_scores_same_sets_synchronized.squeeze(1)\n",
    "all_scores_different_sets_synchronized = all_scores_different_sets_synchronized.squeeze(1)"
   ]
  },
  {
   "cell_type": "code",
   "execution_count": 38,
   "metadata": {},
   "outputs": [
    {
     "data": {
      "text/plain": [
       "array([1100.0244 ,  423.10345, 1048.3677 ,  290.68805,  889.5818 ,\n",
       "       1033.3887 ,  536.8711 , 1195.8757 ,  851.4346 , 1059.248  ],\n",
       "      dtype=float32)"
      ]
     },
     "execution_count": 38,
     "metadata": {},
     "output_type": "execute_result"
    }
   ],
   "source": [
    "all_scores_same_sets_synchronized[:10]"
   ]
  },
  {
   "cell_type": "code",
   "execution_count": 51,
   "metadata": {},
   "outputs": [],
   "source": [
    "all_scores_same_sets_synchronized_middle = np.array([x for x in all_scores_same_sets_synchronized if -1000. < x < 3000.])\n",
    "all_scores_different_sets_synchronized_middle = np.array([x for x in all_scores_different_sets_synchronized if -2000. < x < 2000.])"
   ]
  },
  {
   "cell_type": "code",
   "execution_count": 54,
   "metadata": {},
   "outputs": [
    {
     "data": {
      "text/plain": [
       "<matplotlib.legend.Legend at 0x14fb6c44d850>"
      ]
     },
     "execution_count": 54,
     "metadata": {},
     "output_type": "execute_result"
    },
    {
     "data": {
      "image/png": "[encoded data removed]",
      "text/plain": [
       "<Figure size 640x480 with 1 Axes>"
      ]
     },
     "metadata": {},
     "output_type": "display_data"
    }
   ],
   "source": [
    "plt.hist(all_scores_same_sets_synchronized_middle, bins=50, label='same')\n",
    "plt.hist(all_scores_different_sets_synchronized_middle, bins=50, label='different')\n",
    "plt.xlabel('scalar product')\n",
    "plt.ylabel('number of occurences')\n",
    "plt.legend()"
   ]
  },
  {
   "cell_type": "markdown",
   "metadata": {},
   "source": [
    "# Supervised + small NN"
   ]
  },
  {
   "cell_type": "code",
   "execution_count": 20,
   "metadata": {},
   "outputs": [],
   "source": [
    "class ContrastiveClassifier(nn.Module):\n",
    "    def __init__(self, output_size):\n",
    "        super(ContrastiveClassifier, self).__init__()\n",
    "        self.fc1 = nn.Linear(2 * output_size + 1, 10)  # Assuming output size of model1 and model2 is 256 each\n",
    "        self.sigmoid1 = nn.Sigmoid()\n",
    "        self.fc2 = nn.Linear(10, 1)\n",
    "        self.sigmoid2 = nn.Sigmoid()\n",
    "    \n",
    "    def forward(self, x1, x2):\n",
    "        dot_product = torch.sum(x1 * x2, dim=1, keepdim=True)\n",
    "        x = torch.cat((x1, x2, dot_product), dim=1)\n",
    "        x = self.fc1(x)\n",
    "        x = self.sigmoid1(x)\n",
    "        x = self.fc2(x)\n",
    "        x = self.sigmoid2(x)\n",
    "        return x"
   ]
  },
  {
   "cell_type": "code",
   "execution_count": 21,
   "metadata": {},
   "outputs": [],
   "source": [
    "from torch import optim"
   ]
  },
  {
   "cell_type": "code",
   "execution_count": 22,
   "metadata": {},
   "outputs": [],
   "source": [
    "classifier = ContrastiveClassifier(100).to(device)\n",
    "criterion = nn.BCELoss()\n",
    "optimizer = optim.SGD(classifier.parameters(), lr=0.01, momentum=0.9)"
   ]
  },
  {
   "cell_type": "code",
   "execution_count": 23,
   "metadata": {},
   "outputs": [
    {
     "data": {
      "text/plain": [
       "ResNet(\n",
       "  (conv1): Conv2d(3, 64, kernel_size=(7, 7), stride=(2, 2), padding=(3, 3), bias=False)\n",
       "  (bn1): BatchNorm2d(64, eps=1e-05, momentum=0.1, affine=True, track_running_stats=True)\n",
       "  (relu): ReLU(inplace=True)\n",
       "  (maxpool): MaxPool2d(kernel_size=3, stride=2, padding=1, dilation=1, ceil_mode=False)\n",
       "  (layer1): Sequential(\n",
       "    (0): BasicBlock(\n",
       "      (conv1): Conv2d(64, 64, kernel_size=(3, 3), stride=(1, 1), padding=(1, 1), bias=False)\n",
       "      (bn1): BatchNorm2d(64, eps=1e-05, momentum=0.1, affine=True, track_running_stats=True)\n",
       "      (relu): ReLU(inplace=True)\n",
       "      (conv2): Conv2d(64, 64, kernel_size=(3, 3), stride=(1, 1), padding=(1, 1), bias=False)\n",
       "      (bn2): BatchNorm2d(64, eps=1e-05, momentum=0.1, affine=True, track_running_stats=True)\n",
       "    )\n",
       "    (1): BasicBlock(\n",
       "      (conv1): Conv2d(64, 64, kernel_size=(3, 3), stride=(1, 1), padding=(1, 1), bias=False)\n",
       "      (bn1): BatchNorm2d(64, eps=1e-05, momentum=0.1, affine=True, track_running_stats=True)\n",
       "      (relu): ReLU(inplace=True)\n",
       "      (conv2): Conv2d(64, 64, kernel_size=(3, 3), stride=(1, 1), padding=(1, 1), bias=False)\n",
       "      (bn2): BatchNorm2d(64, eps=1e-05, momentum=0.1, affine=True, track_running_stats=True)\n",
       "    )\n",
       "  )\n",
       "  (layer2): Sequential(\n",
       "    (0): BasicBlock(\n",
       "      (conv1): Conv2d(64, 128, kernel_size=(3, 3), stride=(2, 2), padding=(1, 1), bias=False)\n",
       "      (bn1): BatchNorm2d(128, eps=1e-05, momentum=0.1, affine=True, track_running_stats=True)\n",
       "      (relu): ReLU(inplace=True)\n",
       "      (conv2): Conv2d(128, 128, kernel_size=(3, 3), stride=(1, 1), padding=(1, 1), bias=False)\n",
       "      (bn2): BatchNorm2d(128, eps=1e-05, momentum=0.1, affine=True, track_running_stats=True)\n",
       "      (downsample): Sequential(\n",
       "        (0): Conv2d(64, 128, kernel_size=(1, 1), stride=(2, 2), bias=False)\n",
       "        (1): BatchNorm2d(128, eps=1e-05, momentum=0.1, affine=True, track_running_stats=True)\n",
       "      )\n",
       "    )\n",
       "    (1): BasicBlock(\n",
       "      (conv1): Conv2d(128, 128, kernel_size=(3, 3), stride=(1, 1), padding=(1, 1), bias=False)\n",
       "      (bn1): BatchNorm2d(128, eps=1e-05, momentum=0.1, affine=True, track_running_stats=True)\n",
       "      (relu): ReLU(inplace=True)\n",
       "      (conv2): Conv2d(128, 128, kernel_size=(3, 3), stride=(1, 1), padding=(1, 1), bias=False)\n",
       "      (bn2): BatchNorm2d(128, eps=1e-05, momentum=0.1, affine=True, track_running_stats=True)\n",
       "    )\n",
       "  )\n",
       "  (layer3): Sequential(\n",
       "    (0): BasicBlock(\n",
       "      (conv1): Conv2d(128, 256, kernel_size=(3, 3), stride=(2, 2), padding=(1, 1), bias=False)\n",
       "      (bn1): BatchNorm2d(256, eps=1e-05, momentum=0.1, affine=True, track_running_stats=True)\n",
       "      (relu): ReLU(inplace=True)\n",
       "      (conv2): Conv2d(256, 256, kernel_size=(3, 3), stride=(1, 1), padding=(1, 1), bias=False)\n",
       "      (bn2): BatchNorm2d(256, eps=1e-05, momentum=0.1, affine=True, track_running_stats=True)\n",
       "      (downsample): Sequential(\n",
       "        (0): Conv2d(128, 256, kernel_size=(1, 1), stride=(2, 2), bias=False)\n",
       "        (1): BatchNorm2d(256, eps=1e-05, momentum=0.1, affine=True, track_running_stats=True)\n",
       "      )\n",
       "    )\n",
       "    (1): BasicBlock(\n",
       "      (conv1): Conv2d(256, 256, kernel_size=(3, 3), stride=(1, 1), padding=(1, 1), bias=False)\n",
       "      (bn1): BatchNorm2d(256, eps=1e-05, momentum=0.1, affine=True, track_running_stats=True)\n",
       "      (relu): ReLU(inplace=True)\n",
       "      (conv2): Conv2d(256, 256, kernel_size=(3, 3), stride=(1, 1), padding=(1, 1), bias=False)\n",
       "      (bn2): BatchNorm2d(256, eps=1e-05, momentum=0.1, affine=True, track_running_stats=True)\n",
       "    )\n",
       "  )\n",
       "  (layer4): Sequential(\n",
       "    (0): BasicBlock(\n",
       "      (conv1): Conv2d(256, 512, kernel_size=(3, 3), stride=(2, 2), padding=(1, 1), bias=False)\n",
       "      (bn1): BatchNorm2d(512, eps=1e-05, momentum=0.1, affine=True, track_running_stats=True)\n",
       "      (relu): ReLU(inplace=True)\n",
       "      (conv2): Conv2d(512, 512, kernel_size=(3, 3), stride=(1, 1), padding=(1, 1), bias=False)\n",
       "      (bn2): BatchNorm2d(512, eps=1e-05, momentum=0.1, affine=True, track_running_stats=True)\n",
       "      (downsample): Sequential(\n",
       "        (0): Conv2d(256, 512, kernel_size=(1, 1), stride=(2, 2), bias=False)\n",
       "        (1): BatchNorm2d(512, eps=1e-05, momentum=0.1, affine=True, track_running_stats=True)\n",
       "      )\n",
       "    )\n",
       "    (1): BasicBlock(\n",
       "      (conv1): Conv2d(512, 512, kernel_size=(3, 3), stride=(1, 1), padding=(1, 1), bias=False)\n",
       "      (bn1): BatchNorm2d(512, eps=1e-05, momentum=0.1, affine=True, track_running_stats=True)\n",
       "      (relu): ReLU(inplace=True)\n",
       "      (conv2): Conv2d(512, 512, kernel_size=(3, 3), stride=(1, 1), padding=(1, 1), bias=False)\n",
       "      (bn2): BatchNorm2d(512, eps=1e-05, momentum=0.1, affine=True, track_running_stats=True)\n",
       "    )\n",
       "  )\n",
       "  (avgpool): AdaptiveAvgPool2d(output_size=(1, 1))\n",
       "  (fc): Linear(in_features=512, out_features=100, bias=True)\n",
       ")"
      ]
     },
     "execution_count": 23,
     "metadata": {},
     "output_type": "execute_result"
    }
   ],
   "source": [
    "model.to(device)"
   ]
  },
  {
   "cell_type": "code",
   "execution_count": 24,
   "metadata": {},
   "outputs": [
    {
     "name": "stdout",
     "output_type": "stream",
     "text": [
      "epoch 0\n",
      "Training Loss (same set): 0.6438549757003784\n"
     ]
    },
    {
     "ename": "AssertionError",
     "evalue": "",
     "output_type": "error",
     "traceback": [
      "\u001b[0;31m---------------------------------------------------------------------------\u001b[0m",
      "\u001b[0;31mAssertionError\u001b[0m                            Traceback (most recent call last)",
      "Cell \u001b[0;32mIn[24], line 29\u001b[0m\n\u001b[1;32m     27\u001b[0m inputs_1, labels_1 \u001b[38;5;241m=\u001b[39m batch_val_1\n\u001b[1;32m     28\u001b[0m inputs_2, labels_2 \u001b[38;5;241m=\u001b[39m batch_val_2\n\u001b[0;32m---> 29\u001b[0m \u001b[38;5;28;01massert\u001b[39;00m labels_1\u001b[38;5;241m.\u001b[39meq(labels_2)\u001b[38;5;241m.\u001b[39mall()\n\u001b[1;32m     30\u001b[0m \u001b[38;5;28;01massert\u001b[39;00m inputs_1\u001b[38;5;241m.\u001b[39mne(inputs_2)\u001b[38;5;241m.\u001b[39many()\n\u001b[1;32m     31\u001b[0m inputs_1, labels_1 \u001b[38;5;241m=\u001b[39m inputs_1\u001b[38;5;241m.\u001b[39mto(device), labels_1\u001b[38;5;241m.\u001b[39mto(device)\n",
      "\u001b[0;31mAssertionError\u001b[0m: "
     ]
    }
   ],
   "source": [
    "for epoch in range(20):\n",
    "    print(f'epoch {epoch}')\n",
    "    \n",
    "    # Training and validation within the same epoch\n",
    "    for batch_num, (batch_train_1, batch_train_2, batch_val_1, batch_val_2, batch_diff_1, batch_diff_2) in enumerate(zip(train_train_1_loader, train_train_2_loader, val_val_1_loader, val_val_1_loader, train_val_1_loader, train_val_2_loader)):\n",
    "        \n",
    "        # Same sets - train\n",
    "        inputs_1, labels_1 = batch_train_1\n",
    "        inputs_2, labels_2 = batch_train_2\n",
    "        assert labels_1.eq(labels_2).all()\n",
    "        assert inputs_1.ne(inputs_2).any()\n",
    "        inputs_1, labels_1 = inputs_1.to(device), labels_1.to(device)\n",
    "        inputs_2, labels_2 = inputs_2.to(device), labels_2.to(device)\n",
    "            \n",
    "        outputs_1 = model(inputs_1)\n",
    "        outputs_2 = model(inputs_2)\n",
    "\n",
    "        same_set_scores = classifier(outputs_1, outputs_2).squeeze(1)\n",
    "        loss = criterion(same_set_scores, torch.ones(outputs_1.size(0)).to(device))\n",
    "        loss.backward()\n",
    "        optimizer.step()\n",
    "        print(f'Training Loss (same set): {loss.item()}')\n",
    "        del inputs_1, labels_1, inputs_2, labels_2, outputs_1, outputs_2, same_set_scores\n",
    "        gc.collect()\n",
    "        \n",
    "        # Same sets - validation\n",
    "        inputs_1, labels_1 = batch_val_1\n",
    "        inputs_2, labels_2 = batch_val_2\n",
    "        assert labels_1.eq(labels_2).all()\n",
    "        assert inputs_1.ne(inputs_2).any()\n",
    "        inputs_1, labels_1 = inputs_1.to(device), labels_1.to(device)\n",
    "        inputs_2, labels_2 = inputs_2.to(device), labels_2.to(device)\n",
    "            \n",
    "        outputs_1 = model(inputs_1)\n",
    "        outputs_2 = model(inputs_2)\n",
    "\n",
    "        same_set_scores = classifier(outputs_1, outputs_2).squeeze(1)\n",
    "        val_loss = criterion(same_set_scores, torch.ones(outputs_1.size(0)).to(device))\n",
    "        print(f'Validation Loss (same set): {val_loss.item()}')\n",
    "        del inputs_1, labels_1, inputs_2, labels_2, outputs_1, outputs_2, same_set_scores\n",
    "        gc.collect()\n",
    "        \n",
    "        # Different sets\n",
    "        print(f'Batch num {batch_num}')\n",
    "        inputs_1, labels_1 = batch_diff_1\n",
    "        inputs_2, labels_2 = batch_diff_2\n",
    "\n",
    "        # Ensure sizes match\n",
    "        if inputs_1.size(0) != inputs_2.size(0):\n",
    "            min_batch_size = min(inputs_1.size(0), inputs_2.size(0))\n",
    "            inputs_1, labels_1 = inputs_1[:min_batch_size], labels_1[:min_batch_size]\n",
    "            inputs_2, labels_2 = inputs_2[:min_batch_size], labels_2[:min_batch_size]\n",
    "\n",
    "        inputs_1, labels_1 = inputs_1.to(device), labels_1.to(device)\n",
    "        inputs_2, labels_2 = inputs_2.to(device), labels_2.to(device)\n",
    "\n",
    "        outputs_1 = model(inputs_1)\n",
    "        outputs_2 = model(inputs_2)\n",
    "\n",
    "        shuffled_indices = torch.randperm(outputs_2.size(0))\n",
    "        outputs_2 = outputs_2[shuffled_indices]\n",
    "\n",
    "        different_sets_scores = classifier(outputs_1, outputs_2).squeeze(1)\n",
    "        diff_loss = criterion(different_sets_scores, torch.zeros(outputs_1.size(0)).to(device))\n",
    "        diff_loss.backward()\n",
    "        optimizer.step()\n",
    "        print(f'Training Loss (different set): {diff_loss.item()}')\n",
    "        del inputs_1, labels_1, inputs_2, labels_2, outputs_1, outputs_2, different_sets_scores\n",
    "        torch.cuda.empty_cache()\n",
    "        gc.collect()\n"
   ]
  },
  {
   "cell_type": "code",
   "execution_count": 68,
   "metadata": {},
   "outputs": [
    {
     "name": "stdout",
     "output_type": "stream",
     "text": [
      "epoch 0\n",
      "tensor(0.6324, device='cuda:0', grad_fn=<BinaryCrossEntropyBackward0>)\n",
      "tensor(0.5545, device='cuda:0', grad_fn=<BinaryCrossEntropyBackward0>)\n",
      "tensor(0.4798, device='cuda:0', grad_fn=<BinaryCrossEntropyBackward0>)\n",
      "tensor(0.4238, device='cuda:0', grad_fn=<BinaryCrossEntropyBackward0>)\n",
      "tensor(0.3432, device='cuda:0', grad_fn=<BinaryCrossEntropyBackward0>)\n",
      "tensor(0.2537, device='cuda:0', grad_fn=<BinaryCrossEntropyBackward0>)\n",
      "tensor(0.1639, device='cuda:0', grad_fn=<BinaryCrossEntropyBackward0>)\n",
      "tensor(0.1029, device='cuda:0', grad_fn=<BinaryCrossEntropyBackward0>)\n",
      "tensor(0.0545, device='cuda:0', grad_fn=<BinaryCrossEntropyBackward0>)\n",
      "tensor(0.0236, device='cuda:0', grad_fn=<BinaryCrossEntropyBackward0>)\n",
      "tensor(0.0147, device='cuda:0', grad_fn=<BinaryCrossEntropyBackward0>)\n",
      "tensor(0.0075, device='cuda:0', grad_fn=<BinaryCrossEntropyBackward0>)\n",
      "tensor(0.0065, device='cuda:0', grad_fn=<BinaryCrossEntropyBackward0>)\n",
      "tensor(0.0013, device='cuda:0', grad_fn=<BinaryCrossEntropyBackward0>)\n",
      "tensor(0.0028, device='cuda:0', grad_fn=<BinaryCrossEntropyBackward0>)\n",
      "tensor(0.0016, device='cuda:0', grad_fn=<BinaryCrossEntropyBackward0>)\n",
      "tensor(0.0014, device='cuda:0', grad_fn=<BinaryCrossEntropyBackward0>)\n",
      "tensor(0.0019, device='cuda:0', grad_fn=<BinaryCrossEntropyBackward0>)\n",
      "tensor(0.0012, device='cuda:0', grad_fn=<BinaryCrossEntropyBackward0>)\n",
      "tensor(0.0006, device='cuda:0', grad_fn=<BinaryCrossEntropyBackward0>)\n",
      "tensor(0.0005, device='cuda:0', grad_fn=<BinaryCrossEntropyBackward0>)\n",
      "tensor(9.6945e-06, device='cuda:0', grad_fn=<BinaryCrossEntropyBackward0>)\n",
      "tensor(0.0001, device='cuda:0', grad_fn=<BinaryCrossEntropyBackward0>)\n",
      "tensor(7.8352e-05, device='cuda:0', grad_fn=<BinaryCrossEntropyBackward0>)\n",
      "tensor(0., device='cuda:0', grad_fn=<BinaryCrossEntropyBackward0>)\n",
      "tensor(6.0352e-07, device='cuda:0', grad_fn=<BinaryCrossEntropyBackward0>)\n",
      "tensor(7.5906e-07, device='cuda:0', grad_fn=<BinaryCrossEntropyBackward0>)\n",
      "tensor(1.1875e-06, device='cuda:0', grad_fn=<BinaryCrossEntropyBackward0>)\n",
      "tensor(2.4494e-07, device='cuda:0', grad_fn=<BinaryCrossEntropyBackward0>)\n",
      "tensor(9.3414e-07, device='cuda:0', grad_fn=<BinaryCrossEntropyBackward0>)\n",
      "tensor(3.2596e-08, device='cuda:0', grad_fn=<BinaryCrossEntropyBackward0>)\n",
      "tensor(1.7695e-08, device='cuda:0', grad_fn=<BinaryCrossEntropyBackward0>)\n",
      "tensor(2.8871e-08, device='cuda:0', grad_fn=<BinaryCrossEntropyBackward0>)\n",
      "tensor(9.3132e-10, device='cuda:0', grad_fn=<BinaryCrossEntropyBackward0>)\n",
      "tensor(1.8626e-09, device='cuda:0', grad_fn=<BinaryCrossEntropyBackward0>)\n",
      "tensor(9.3132e-10, device='cuda:0', grad_fn=<BinaryCrossEntropyBackward0>)\n",
      "tensor(0., device='cuda:0', grad_fn=<BinaryCrossEntropyBackward0>)\n",
      "tensor(0., device='cuda:0', grad_fn=<BinaryCrossEntropyBackward0>)\n",
      "tensor(0., device='cuda:0', grad_fn=<BinaryCrossEntropyBackward0>)\n",
      "tensor(0., device='cuda:0', grad_fn=<BinaryCrossEntropyBackward0>)\n",
      "tensor(0., device='cuda:0', grad_fn=<BinaryCrossEntropyBackward0>)\n",
      "tensor(0., device='cuda:0', grad_fn=<BinaryCrossEntropyBackward0>)\n",
      "tensor(0., device='cuda:0', grad_fn=<BinaryCrossEntropyBackward0>)\n",
      "tensor(0., device='cuda:0', grad_fn=<BinaryCrossEntropyBackward0>)\n",
      "tensor(0., device='cuda:0', grad_fn=<BinaryCrossEntropyBackward0>)\n",
      "tensor(0., device='cuda:0', grad_fn=<BinaryCrossEntropyBackward0>)\n",
      "tensor(0., device='cuda:0', grad_fn=<BinaryCrossEntropyBackward0>)\n",
      "tensor(0., device='cuda:0', grad_fn=<BinaryCrossEntropyBackward0>)\n",
      "tensor(0., device='cuda:0', grad_fn=<BinaryCrossEntropyBackward0>)\n",
      "tensor(0., device='cuda:0', grad_fn=<BinaryCrossEntropyBackward0>)\n",
      "tensor(0., device='cuda:0', grad_fn=<BinaryCrossEntropyBackward0>)\n",
      "tensor(0., device='cuda:0', grad_fn=<BinaryCrossEntropyBackward0>)\n",
      "tensor(0., device='cuda:0', grad_fn=<BinaryCrossEntropyBackward0>)\n",
      "tensor(0., device='cuda:0', grad_fn=<BinaryCrossEntropyBackward0>)\n",
      "tensor(0., device='cuda:0', grad_fn=<BinaryCrossEntropyBackward0>)\n",
      "tensor(0., device='cuda:0', grad_fn=<BinaryCrossEntropyBackward0>)\n",
      "tensor(0., device='cuda:0', grad_fn=<BinaryCrossEntropyBackward0>)\n",
      "tensor(0., device='cuda:0', grad_fn=<BinaryCrossEntropyBackward0>)\n",
      "tensor(0., device='cuda:0', grad_fn=<BinaryCrossEntropyBackward0>)\n",
      "tensor(0., device='cuda:0', grad_fn=<BinaryCrossEntropyBackward0>)\n",
      "tensor(0., device='cuda:0', grad_fn=<BinaryCrossEntropyBackward0>)\n",
      "tensor(0., device='cuda:0', grad_fn=<BinaryCrossEntropyBackward0>)\n",
      "tensor(0., device='cuda:0', grad_fn=<BinaryCrossEntropyBackward0>)\n",
      "tensor(0., device='cuda:0', grad_fn=<BinaryCrossEntropyBackward0>)\n",
      "tensor(0., device='cuda:0', grad_fn=<BinaryCrossEntropyBackward0>)\n",
      "tensor(0., device='cuda:0', grad_fn=<BinaryCrossEntropyBackward0>)\n",
      "tensor(0., device='cuda:0', grad_fn=<BinaryCrossEntropyBackward0>)\n",
      "tensor(0., device='cuda:0', grad_fn=<BinaryCrossEntropyBackward0>)\n",
      "tensor(0., device='cuda:0', grad_fn=<BinaryCrossEntropyBackward0>)\n",
      "tensor(0., device='cuda:0', grad_fn=<BinaryCrossEntropyBackward0>)\n",
      "tensor(0., device='cuda:0', grad_fn=<BinaryCrossEntropyBackward0>)\n",
      "tensor(0., device='cuda:0', grad_fn=<BinaryCrossEntropyBackward0>)\n",
      "tensor(0., device='cuda:0', grad_fn=<BinaryCrossEntropyBackward0>)\n",
      "tensor(0., device='cuda:0', grad_fn=<BinaryCrossEntropyBackward0>)\n",
      "tensor(0., device='cuda:0', grad_fn=<BinaryCrossEntropyBackward0>)\n",
      "tensor(0., device='cuda:0', grad_fn=<BinaryCrossEntropyBackward0>)\n",
      "tensor(0., device='cuda:0', grad_fn=<BinaryCrossEntropyBackward0>)\n",
      "tensor(0., device='cuda:0', grad_fn=<BinaryCrossEntropyBackward0>)\n",
      "tensor(0., device='cuda:0', grad_fn=<BinaryCrossEntropyBackward0>)\n",
      "tensor(0., device='cuda:0', grad_fn=<BinaryCrossEntropyBackward0>)\n",
      "tensor(0., device='cuda:0', grad_fn=<BinaryCrossEntropyBackward0>)\n",
      "tensor(0., device='cuda:0', grad_fn=<BinaryCrossEntropyBackward0>)\n",
      "tensor(0., device='cuda:0', grad_fn=<BinaryCrossEntropyBackward0>)\n",
      "tensor(0., device='cuda:0', grad_fn=<BinaryCrossEntropyBackward0>)\n",
      "tensor(0., device='cuda:0', grad_fn=<BinaryCrossEntropyBackward0>)\n",
      "tensor(0., device='cuda:0', grad_fn=<BinaryCrossEntropyBackward0>)\n",
      "tensor(0., device='cuda:0', grad_fn=<BinaryCrossEntropyBackward0>)\n",
      "tensor(0., device='cuda:0', grad_fn=<BinaryCrossEntropyBackward0>)\n",
      "tensor(0., device='cuda:0', grad_fn=<BinaryCrossEntropyBackward0>)\n",
      "tensor(0., device='cuda:0', grad_fn=<BinaryCrossEntropyBackward0>)\n",
      "tensor(0., device='cuda:0', grad_fn=<BinaryCrossEntropyBackward0>)\n",
      "tensor(0., device='cuda:0', grad_fn=<BinaryCrossEntropyBackward0>)\n",
      "tensor(0., device='cuda:0', grad_fn=<BinaryCrossEntropyBackward0>)\n",
      "tensor(0., device='cuda:0', grad_fn=<BinaryCrossEntropyBackward0>)\n",
      "tensor(0., device='cuda:0', grad_fn=<BinaryCrossEntropyBackward0>)\n",
      "tensor(0., device='cuda:0', grad_fn=<BinaryCrossEntropyBackward0>)\n",
      "tensor(0., device='cuda:0', grad_fn=<BinaryCrossEntropyBackward0>)\n",
      "tensor(0., device='cuda:0', grad_fn=<BinaryCrossEntropyBackward0>)\n",
      "tensor(0., device='cuda:0', grad_fn=<BinaryCrossEntropyBackward0>)\n",
      "tensor(0., device='cuda:0', grad_fn=<BinaryCrossEntropyBackward0>)\n",
      "tensor(0., device='cuda:0', grad_fn=<BinaryCrossEntropyBackward0>)\n",
      "tensor(0., device='cuda:0', grad_fn=<BinaryCrossEntropyBackward0>)\n",
      "tensor(0., device='cuda:0', grad_fn=<BinaryCrossEntropyBackward0>)\n",
      "tensor(0., device='cuda:0', grad_fn=<BinaryCrossEntropyBackward0>)\n",
      "tensor(0., device='cuda:0', grad_fn=<BinaryCrossEntropyBackward0>)\n",
      "tensor(0., device='cuda:0', grad_fn=<BinaryCrossEntropyBackward0>)\n",
      "tensor(0., device='cuda:0', grad_fn=<BinaryCrossEntropyBackward0>)\n",
      "tensor(0., device='cuda:0', grad_fn=<BinaryCrossEntropyBackward0>)\n",
      "tensor(0., device='cuda:0', grad_fn=<BinaryCrossEntropyBackward0>)\n",
      "tensor(0., device='cuda:0', grad_fn=<BinaryCrossEntropyBackward0>)\n",
      "tensor(0., device='cuda:0', grad_fn=<BinaryCrossEntropyBackward0>)\n",
      "tensor(0., device='cuda:0', grad_fn=<BinaryCrossEntropyBackward0>)\n",
      "tensor(0., device='cuda:0', grad_fn=<BinaryCrossEntropyBackward0>)\n",
      "tensor(0., device='cuda:0', grad_fn=<BinaryCrossEntropyBackward0>)\n",
      "tensor(0., device='cuda:0', grad_fn=<BinaryCrossEntropyBackward0>)\n",
      "tensor(0., device='cuda:0', grad_fn=<BinaryCrossEntropyBackward0>)\n",
      "tensor(0., device='cuda:0', grad_fn=<BinaryCrossEntropyBackward0>)\n",
      "tensor(0., device='cuda:0', grad_fn=<BinaryCrossEntropyBackward0>)\n",
      "tensor(0., device='cuda:0', grad_fn=<BinaryCrossEntropyBackward0>)\n",
      "tensor(0., device='cuda:0', grad_fn=<BinaryCrossEntropyBackward0>)\n",
      "tensor(0., device='cuda:0', grad_fn=<BinaryCrossEntropyBackward0>)\n",
      "tensor(0., device='cuda:0', grad_fn=<BinaryCrossEntropyBackward0>)\n",
      "tensor(0., device='cuda:0', grad_fn=<BinaryCrossEntropyBackward0>)\n",
      "tensor(0., device='cuda:0', grad_fn=<BinaryCrossEntropyBackward0>)\n",
      "tensor(0., device='cuda:0', grad_fn=<BinaryCrossEntropyBackward0>)\n",
      "tensor(0., device='cuda:0', grad_fn=<BinaryCrossEntropyBackward0>)\n",
      "tensor(0., device='cuda:0', grad_fn=<BinaryCrossEntropyBackward0>)\n",
      "tensor(0., device='cuda:0', grad_fn=<BinaryCrossEntropyBackward0>)\n",
      "tensor(0., device='cuda:0', grad_fn=<BinaryCrossEntropyBackward0>)\n",
      "tensor(0., device='cuda:0', grad_fn=<BinaryCrossEntropyBackward0>)\n",
      "tensor(0., device='cuda:0', grad_fn=<BinaryCrossEntropyBackward0>)\n",
      "tensor(0., device='cuda:0', grad_fn=<BinaryCrossEntropyBackward0>)\n",
      "tensor(0., device='cuda:0', grad_fn=<BinaryCrossEntropyBackward0>)\n",
      "tensor(0., device='cuda:0', grad_fn=<BinaryCrossEntropyBackward0>)\n",
      "tensor(0., device='cuda:0', grad_fn=<BinaryCrossEntropyBackward0>)\n",
      "tensor(0., device='cuda:0', grad_fn=<BinaryCrossEntropyBackward0>)\n",
      "tensor(0., device='cuda:0', grad_fn=<BinaryCrossEntropyBackward0>)\n",
      "tensor(0., device='cuda:0', grad_fn=<BinaryCrossEntropyBackward0>)\n",
      "tensor(0., device='cuda:0', grad_fn=<BinaryCrossEntropyBackward0>)\n",
      "tensor(0., device='cuda:0', grad_fn=<BinaryCrossEntropyBackward0>)\n",
      "tensor(0., device='cuda:0', grad_fn=<BinaryCrossEntropyBackward0>)\n",
      "tensor(0., device='cuda:0', grad_fn=<BinaryCrossEntropyBackward0>)\n",
      "tensor(0., device='cuda:0', grad_fn=<BinaryCrossEntropyBackward0>)\n",
      "tensor(0., device='cuda:0', grad_fn=<BinaryCrossEntropyBackward0>)\n",
      "tensor(0., device='cuda:0', grad_fn=<BinaryCrossEntropyBackward0>)\n",
      "tensor(0., device='cuda:0', grad_fn=<BinaryCrossEntropyBackward0>)\n",
      "tensor(0., device='cuda:0', grad_fn=<BinaryCrossEntropyBackward0>)\n",
      "tensor(0., device='cuda:0', grad_fn=<BinaryCrossEntropyBackward0>)\n",
      "tensor(0., device='cuda:0', grad_fn=<BinaryCrossEntropyBackward0>)\n",
      "tensor(0., device='cuda:0', grad_fn=<BinaryCrossEntropyBackward0>)\n",
      "tensor(0., device='cuda:0', grad_fn=<BinaryCrossEntropyBackward0>)\n",
      "tensor(0., device='cuda:0', grad_fn=<BinaryCrossEntropyBackward0>)\n",
      "tensor(0., device='cuda:0', grad_fn=<BinaryCrossEntropyBackward0>)\n",
      "tensor(0., device='cuda:0', grad_fn=<BinaryCrossEntropyBackward0>)\n",
      "tensor(0., device='cuda:0', grad_fn=<BinaryCrossEntropyBackward0>)\n",
      "tensor(0., device='cuda:0', grad_fn=<BinaryCrossEntropyBackward0>)\n",
      "tensor(0., device='cuda:0', grad_fn=<BinaryCrossEntropyBackward0>)\n",
      "tensor(0., device='cuda:0', grad_fn=<BinaryCrossEntropyBackward0>)\n",
      "tensor(0., device='cuda:0', grad_fn=<BinaryCrossEntropyBackward0>)\n",
      "tensor(0., device='cuda:0', grad_fn=<BinaryCrossEntropyBackward0>)\n",
      "tensor(0., device='cuda:0', grad_fn=<BinaryCrossEntropyBackward0>)\n",
      "tensor(0., device='cuda:0', grad_fn=<BinaryCrossEntropyBackward0>)\n",
      "tensor(0., device='cuda:0', grad_fn=<BinaryCrossEntropyBackward0>)\n",
      "tensor(0., device='cuda:0', grad_fn=<BinaryCrossEntropyBackward0>)\n",
      "tensor(0., device='cuda:0', grad_fn=<BinaryCrossEntropyBackward0>)\n",
      "tensor(0., device='cuda:0', grad_fn=<BinaryCrossEntropyBackward0>)\n",
      "tensor(0., device='cuda:0', grad_fn=<BinaryCrossEntropyBackward0>)\n",
      "tensor(0., device='cuda:0', grad_fn=<BinaryCrossEntropyBackward0>)\n",
      "tensor(0., device='cuda:0', grad_fn=<BinaryCrossEntropyBackward0>)\n",
      "tensor(0., device='cuda:0', grad_fn=<BinaryCrossEntropyBackward0>)\n",
      "tensor(0., device='cuda:0', grad_fn=<BinaryCrossEntropyBackward0>)\n",
      "tensor(0., device='cuda:0', grad_fn=<BinaryCrossEntropyBackward0>)\n",
      "tensor(0., device='cuda:0', grad_fn=<BinaryCrossEntropyBackward0>)\n",
      "tensor(0., device='cuda:0', grad_fn=<BinaryCrossEntropyBackward0>)\n",
      "tensor(0., device='cuda:0', grad_fn=<BinaryCrossEntropyBackward0>)\n",
      "tensor(0., device='cuda:0', grad_fn=<BinaryCrossEntropyBackward0>)\n",
      "tensor(0., device='cuda:0', grad_fn=<BinaryCrossEntropyBackward0>)\n",
      "tensor(0., device='cuda:0', grad_fn=<BinaryCrossEntropyBackward0>)\n",
      "tensor(0., device='cuda:0', grad_fn=<BinaryCrossEntropyBackward0>)\n",
      "tensor(0., device='cuda:0', grad_fn=<BinaryCrossEntropyBackward0>)\n",
      "tensor(0., device='cuda:0', grad_fn=<BinaryCrossEntropyBackward0>)\n",
      "tensor(0., device='cuda:0', grad_fn=<BinaryCrossEntropyBackward0>)\n",
      "tensor(0., device='cuda:0', grad_fn=<BinaryCrossEntropyBackward0>)\n",
      "tensor(0., device='cuda:0', grad_fn=<BinaryCrossEntropyBackward0>)\n",
      "tensor(0., device='cuda:0', grad_fn=<BinaryCrossEntropyBackward0>)\n",
      "tensor(0., device='cuda:0', grad_fn=<BinaryCrossEntropyBackward0>)\n",
      "tensor(0., device='cuda:0', grad_fn=<BinaryCrossEntropyBackward0>)\n",
      "tensor(0., device='cuda:0', grad_fn=<BinaryCrossEntropyBackward0>)\n",
      "tensor(0., device='cuda:0', grad_fn=<BinaryCrossEntropyBackward0>)\n",
      "tensor(0., device='cuda:0', grad_fn=<BinaryCrossEntropyBackward0>)\n",
      "tensor(0., device='cuda:0', grad_fn=<BinaryCrossEntropyBackward0>)\n",
      "tensor(0., device='cuda:0', grad_fn=<BinaryCrossEntropyBackward0>)\n",
      "tensor(0., device='cuda:0', grad_fn=<BinaryCrossEntropyBackward0>)\n",
      "tensor(0., device='cuda:0', grad_fn=<BinaryCrossEntropyBackward0>)\n",
      "tensor(0., device='cuda:0', grad_fn=<BinaryCrossEntropyBackward0>)\n",
      "tensor(0., device='cuda:0', grad_fn=<BinaryCrossEntropyBackward0>)\n",
      "tensor(0., device='cuda:0', grad_fn=<BinaryCrossEntropyBackward0>)\n",
      "tensor(0., device='cuda:0', grad_fn=<BinaryCrossEntropyBackward0>)\n",
      "tensor(0., device='cuda:0', grad_fn=<BinaryCrossEntropyBackward0>)\n",
      "tensor(0., device='cuda:0', grad_fn=<BinaryCrossEntropyBackward0>)\n",
      "tensor(0., device='cuda:0', grad_fn=<BinaryCrossEntropyBackward0>)\n"
     ]
    }
   ],
   "source": [
    "# for epoch in range(20):\n",
    "#     print(f'epoch {epoch}')\n",
    "#     # same sets\n",
    "#     # train\n",
    "#     for batch_1, batch_2 in zip(train_train_1_loader, train_train_2_loader):\n",
    "#         inputs_1, labels_1 = batch_1\n",
    "#         inputs_2, labels_2 = batch_2\n",
    "#         assert labels_1.eq(labels_2).all()\n",
    "#         assert inputs_1.ne(inputs_2).any()\n",
    "#         inputs_1, labels_1 = inputs_1.to(device), labels_1.to(device)\n",
    "#         inputs_2, labels_2 = inputs_2.to(device), labels_2.to(device)\n",
    "            \n",
    "#         outputs_1 = model(inputs_1)\n",
    "#         outputs_2 = model(inputs_2)\n",
    "\n",
    "#         same_set_scores = classifier(outputs_1, outputs_2).squeeze(1)\n",
    "#         loss = criterion(same_set_scores, torch.ones(outputs_1.size(0)).to(device))\n",
    "#         loss.backward()\n",
    "#         optimizer.step()\n",
    "#         print(loss)\n",
    "#         del inputs_1, labels_1, inputs_2, labels_2, outputs_1, outputs_2, same_set_scores\n",
    "#         gc.collect()\n",
    "#     # validation\n",
    "#     for batch_1, batch_2 in zip(val_val_1_loader, val_val_1_loader):\n",
    "#         inputs_1, labels_1 = batch_1\n",
    "#         inputs_2, labels_2 = batch_2\n",
    "#         assert labels_1.eq(labels_2).all()\n",
    "#         assert inputs_1.ne(inputs_2).any()\n",
    "#         inputs_1, labels_1 = inputs_1.to(device), labels_1.to(device)\n",
    "#         inputs_2, labels_2 = inputs_2.to(device), labels_2.to(device)\n",
    "            \n",
    "#         outputs_1 = model(inputs_1)\n",
    "#         outputs_2 = model(inputs_2)\n",
    "\n",
    "#         same_set_scores = classifier(outputs_1, outputs_2).squeeze(1)\n",
    "#         loss = criterion(same_set_scores, torch.ones(outputs_1.size(0)).to(device))\n",
    "#         loss.backward()\n",
    "#         optimizer.step()\n",
    "#         print(loss)\n",
    "#         del inputs_1, labels_1, inputs_2, labels_2, outputs_1, outputs_2, same_set_scores\n",
    "#         gc.collect()\n",
    "#     # different sets\n",
    "    \n",
    "#     for batch_num, (batch_1, batch_2) in enumerate(zip(train_val_1_loader, train_val_2_loader)):\n",
    "#         print(f'Batch num {batch_num}')\n",
    "#         inputs_1, labels_1 = batch_1\n",
    "#         inputs_2, labels_2 = batch_2\n",
    "\n",
    "#         # Ensure sizes match\n",
    "#         if inputs_1.size(0) != inputs_2.size(0):\n",
    "#             min_batch_size = min(inputs_1.size(0), inputs_2.size(0))\n",
    "#             inputs_1, labels_1 = inputs_1[:min_batch_size], labels_1[:min_batch_size]\n",
    "#             inputs_2, labels_2 = inputs_2[:min_batch_size], labels_2[:min_batch_size]\n",
    "\n",
    "#         inputs_1, labels_1 = inputs_1.to(device), labels_1.to(device)\n",
    "#         inputs_2, labels_2 = inputs_2.to(device), labels_2.to(device)\n",
    "\n",
    "                \n",
    "#         outputs_1 = model(inputs_1)\n",
    "#         outputs_2 = model(inputs_2)\n",
    "\n",
    "#         shuffled_indices = torch.randperm(outputs_2.size(0))\n",
    "#         outputs_2 = outputs_2[shuffled_indices]\n",
    "\n",
    "#         different_sets_scores = classifier(outputs_1, outputs_2).squeeze(1)\n",
    "#         loss = criterion(same_set_scores, torch.zeros(outputs_1.size(0)).to(device))\n",
    "#         loss.backward()\n",
    "#         optimizer.step()\n",
    "#         print(loss)\n",
    "#         del inputs_1, labels_1, inputs_2, labels_2, outputs_1, outputs_2, different_sets_scores\n",
    "#         torch.cuda.empty_cache()\n",
    "#         gc.collect()"
   ]
  },
  {
   "cell_type": "code",
   "execution_count": null,
   "metadata": {},
   "outputs": [],
   "source": []
  }
 ],
 "metadata": {
  "kernelspec": {
   "display_name": "Python 3 (ipykernel)",
   "language": "python",
   "name": "python3"
  }
 },
 "nbformat": 4,
 "nbformat_minor": 2
}
