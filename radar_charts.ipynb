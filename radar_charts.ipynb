{
 "cells": [
  {
   "cell_type": "code",
   "execution_count": 1,
   "metadata": {},
   "outputs": [
    {
     "name": "stderr",
     "output_type": "stream",
     "text": [
      "/ibex/scratch/gasanoe/unlearning/env/lib/python3.11/site-packages/tqdm/auto.py:21: TqdmWarning: IProgress not found. Please update jupyter and ipywidgets. See https://ipywidgets.readthedocs.io/en/stable/user_install.html\n",
      "  from .autonotebook import tqdm as notebook_tqdm\n"
     ]
    }
   ],
   "source": [
    "import numpy as np\n",
    "import matplotlib.pyplot as plt\n",
    "import copy\n",
    "import torch\n",
    "from tensorboard.backend.event_processing.event_accumulator import EventAccumulator\n",
    "from metrics import mia_efficacy\n",
    "import data\n",
    "from models import get_model\n",
    "from metrics import calculate_accuracy"
   ]
  },
  {
   "cell_type": "markdown",
   "metadata": {},
   "source": [
    "# Collecting metrics"
   ]
  },
  {
   "cell_type": "code",
   "execution_count": 2,
   "metadata": {},
   "outputs": [],
   "source": [
    "log_dir_dict_finetuned = {\n",
    "    'SCRUB': '/home/gasanoe/HOME_SCRATCH_FOLDER/unlearning/logs/model_resnet18_lr_0.1_untrain07-24-14:34:39_SCRUB',\n",
    "    'neggradplus': '/home/gasanoe/HOME_SCRATCH_FOLDER/unlearning/logs/model_resnet18_lr_0.2_untrain07-24-14:40:55_neggradplus',\n",
    "    'euk': '/home/gasanoe/HOME_SCRATCH_FOLDER/unlearning/logs/model_resnet18_lr_0.1_untrain07-24-18:25:20_eu_9_at_shot_epoch_0',\n",
    "    'our_method': '/home/gasanoe/HOME_SCRATCH_FOLDER/unlearning/logs/model_resnet18_lr_0.025_untrain07-24-15:52:07_constrained_lagrange',\n",
    "    'original_model': '/home/gasanoe/HOME_SCRATCH_FOLDER/unlearning/logs/model_resnet18_sam_True_rho_0.5_lr_0.1_07-03-09:33:15',\n",
    "    'retrain': '/home/gasanoe/HOME_SCRATCH_FOLDER/unlearning/logs/model_resnet18_lr_0.1_07-23-09:24:12'\n",
    "}"
   ]
  },
  {
   "cell_type": "markdown",
   "metadata": {},
   "source": [
    "## Downloading the dataset"
   ]
  },
  {
   "cell_type": "code",
   "execution_count": 3,
   "metadata": {},
   "outputs": [
    {
     "name": "stdout",
     "output_type": "stream",
     "text": [
      "Files already downloaded and verified\n",
      "Files already downloaded and verified\n"
     ]
    }
   ],
   "source": [
    "dataset_handler = data.CIFAR100Handler(batch_size=128,\n",
    "                                       validation_split=0.1,\n",
    "                                       random_seed=42,\n",
    "                                       data_dir='/home/gasanoe/HOME_SCRATCH_FOLDER/unlearning/data/cifar100')\n",
    "data_confuser = data.uniform_confuser(confuse_level=.0, random_seed=42)\n",
    "splitter = data.mix_both_sets(\n",
    "    amend_split=1.,\n",
    "    retain_split=0.1,\n",
    "    random_seed=42\n",
    "    )\n",
    "confused_dataset_handler = data.AmendedDatasetHandler(\n",
    "    dataset_handler,\n",
    "    data_confuser,\n",
    "    splitter,\n",
    "    class_wise_corr=True\n",
    "    )\n",
    "train_loader, val_loader, test_loader, forget_loader, retain_loader, unseen_loader = confused_dataset_handler.get_dataloaders()"
   ]
  },
  {
   "cell_type": "markdown",
   "metadata": {},
   "source": [
    "## Collecting metrics"
   ]
  },
  {
   "cell_type": "code",
   "execution_count": 4,
   "metadata": {},
   "outputs": [
    {
     "name": "stdout",
     "output_type": "stream",
     "text": [
      "/home/gasanoe/HOME_SCRATCH_FOLDER/unlearning/logs/model_resnet18_lr_0.1_untrain07-24-14:34:39_SCRUB/Accuracy_train_top5_retain\n",
      "{'images': [], 'audio': [], 'histograms': [], 'scalars': ['Accuracy/train_top5'], 'distributions': [], 'tensors': [], 'graph': False, 'meta_graph': False, 'run_metadata': []}\n",
      "/home/gasanoe/HOME_SCRATCH_FOLDER/unlearning/logs/model_resnet18_lr_0.2_untrain07-24-14:40:55_neggradplus/Accuracy_train_top5_retain\n",
      "{'images': [], 'audio': [], 'histograms': [], 'scalars': ['Accuracy/train_top5'], 'distributions': [], 'tensors': [], 'graph': False, 'meta_graph': False, 'run_metadata': []}\n",
      "/home/gasanoe/HOME_SCRATCH_FOLDER/unlearning/logs/model_resnet18_lr_0.025_untrain07-24-15:52:07_constrained_lagrange/Accuracy_train_top5_retain\n",
      "{'images': [], 'audio': [], 'histograms': [], 'scalars': ['Accuracy/train_top5'], 'distributions': [], 'tensors': [], 'graph': False, 'meta_graph': False, 'run_metadata': []}\n"
     ]
    }
   ],
   "source": [
    "all_values_retain_top5 = dict()\n",
    "for (key, log_dir) in log_dir_dict_finetuned.items():\n",
    "    if key in ['original_model', 'euk', 'retrain']:\n",
    "        continue\n",
    "    \n",
    "    log_dir = log_dir + '/Accuracy_train_top5_retain'\n",
    "    print(log_dir)\n",
    "    # Initialize the event accumulator\n",
    "    event_acc = EventAccumulator(log_dir)\n",
    "    event_acc.Reload()\n",
    "\n",
    "    # Print all available tags (e.g., scalars, histograms, images, etc.)\n",
    "    print(event_acc.Tags())\n",
    "\n",
    "    # Get scalar data for a specific tag\n",
    "    scalar_tag = 'Accuracy/train_top5'\n",
    "    scalar_events = event_acc.Scalars(scalar_tag)\n",
    "\n",
    "    all_values_retain_top5[key] = scalar_events[-1].value"
   ]
  },
  {
   "cell_type": "code",
   "execution_count": 5,
   "metadata": {},
   "outputs": [
    {
     "data": {
      "text/plain": [
       "{'SCRUB': 70.3857421875,\n",
       " 'neggradplus': 73.291015625,\n",
       " 'our_method': 97.6806640625}"
      ]
     },
     "execution_count": 5,
     "metadata": {},
     "output_type": "execute_result"
    }
   ],
   "source": [
    "all_values_retain_top5"
   ]
  },
  {
   "cell_type": "code",
   "execution_count": 6,
   "metadata": {},
   "outputs": [],
   "source": [
    "def return_acc(weight_path, loader, k=5):\n",
    "    model = get_model('resnet18', num_classes=100, pretrained_weights=None,\n",
    "                      weight_path=weight_path)\n",
    "    model.eval()\n",
    "    device = torch.device('cuda')\n",
    "    model.to(device)\n",
    "    n_batches = 0\n",
    "    full_acc = []\n",
    "    for inputs, targets in loader:\n",
    "        inputs, targets = inputs.to(device), targets.to(device)\n",
    "\n",
    "        outputs = model(inputs)\n",
    "        acc = calculate_accuracy(outputs, targets, topk=(k,))\n",
    "        full_acc += acc\n",
    "        n_batches += 1\n",
    "    return (sum(full_acc) / len(full_acc)).item()"
   ]
  },
  {
   "cell_type": "code",
   "execution_count": 9,
   "metadata": {},
   "outputs": [
    {
     "name": "stdout",
     "output_type": "stream",
     "text": [
      "Loaded weights from /home/gasanoe/HOME_SCRATCH_FOLDER/unlearning/logs/model_resnet18_lr_0.1_07-23-09:24:12_model.pth\n",
      "Model 'resnet18' loaded successfully!\n",
      "Number of layers: 62\n",
      "Total parameters: 11227812\n",
      "Trainable parameters: 11227812\n"
     ]
    }
   ],
   "source": [
    "losses_val_mia = []\n",
    "losses_train_mia = []\n",
    "losses_forget_mia = []\n",
    "\n",
    "model = get_model('resnet18', num_classes=100, pretrained_weights=None,\n",
    "                 weight_path=log_dir_dict_finetuned['retrain']+'_model.pth')\n",
    "device = torch.device('cuda')\n",
    "model.to(device)\n",
    "model.eval()\n",
    "\n",
    "for inputs, targets in train_loader_mia:\n",
    "    inputs, targets = inputs.to(device), targets.to(device)\n",
    "    outputs = model(inputs)\n",
    "    loss = torch.nn.CrossEntropyLoss(reduction='none')(outputs, targets)\n",
    "    losses_train_mia += list(loss.cpu().detach().numpy())\n",
    "\n",
    "for inputs, targets in val_loader_mia:\n",
    "    inputs, targets = inputs.to(device), targets.to(device)\n",
    "    outputs = model(inputs)\n",
    "    loss = torch.nn.CrossEntropyLoss(reduction='none')(outputs, targets)\n",
    "    losses_val_mia += list(loss.cpu().detach().numpy())\n",
    "\n",
    "for inputs, targets in forget_loader:\n",
    "    inputs, targets = inputs.to(device), targets.to(device)\n",
    "    outputs = model(inputs)\n",
    "    loss = torch.nn.CrossEntropyLoss(reduction='none')(outputs, targets)\n",
    "    losses_forget_mia += list(loss.cpu().detach().numpy())"
   ]
  },
  {
   "cell_type": "code",
   "execution_count": 14,
   "metadata": {},
   "outputs": [
    {
     "data": {
      "text/plain": [
       "5000"
      ]
     },
     "execution_count": 14,
     "metadata": {},
     "output_type": "execute_result"
    }
   ],
   "source": [
    "len(train_loader_mia.sampler.indices)"
   ]
  },
  {
   "cell_type": "code",
   "execution_count": 13,
   "metadata": {},
   "outputs": [
    {
     "data": {
      "text/plain": [
       "<matplotlib.legend.Legend at 0x146a60899790>"
      ]
     },
     "execution_count": 13,
     "metadata": {},
     "output_type": "execute_result"
    },
    {
     "data": {
      "image/png": "[encoded data removed]",
      "text/plain": [
       "<Figure size 640x480 with 1 Axes>"
      ]
     },
     "metadata": {},
     "output_type": "display_data"
    }
   ],
   "source": [
    "plt.hist(losses_train_mia, bins=20, label='train')\n",
    "plt.hist(losses_val_mia, bins=20, histtype='step', label='val')\n",
    "plt.hist(losses_forget_mia, bins=20, label='forget')\n",
    "plt.legend()"
   ]
  },
  {
   "cell_type": "code",
   "execution_count": 15,
   "metadata": {},
   "outputs": [],
   "source": [
    "from sklearn.linear_model import LogisticRegression"
   ]
  },
  {
   "cell_type": "code",
   "execution_count": 16,
   "metadata": {},
   "outputs": [
    {
     "data": {
      "text/html": [
       "<style>#sk-container-id-1 {\n",
       "  /* Definition of color scheme common for light and dark mode */\n",
       "  --sklearn-color-text: black;\n",
       "  --sklearn-color-line: gray;\n",
       "  /* Definition of color scheme for unfitted estimators */\n",
       "  --sklearn-color-unfitted-level-0: #fff5e6;\n",
       "  --sklearn-color-unfitted-level-1: #f6e4d2;\n",
       "  --sklearn-color-unfitted-level-2: #ffe0b3;\n",
       "  --sklearn-color-unfitted-level-3: chocolate;\n",
       "  /* Definition of color scheme for fitted estimators */\n",
       "  --sklearn-color-fitted-level-0: #f0f8ff;\n",
       "  --sklearn-color-fitted-level-1: #d4ebff;\n",
       "  --sklearn-color-fitted-level-2: #b3dbfd;\n",
       "  --sklearn-color-fitted-level-3: cornflowerblue;\n",
       "\n",
       "  /* Specific color for light theme */\n",
       "  --sklearn-color-text-on-default-background: var(--sg-text-color, var(--theme-code-foreground, var(--jp-content-font-color1, black)));\n",
       "  --sklearn-color-background: var(--sg-background-color, var(--theme-background, var(--jp-layout-color0, white)));\n",
       "  --sklearn-color-border-box: var(--sg-text-color, var(--theme-code-foreground, var(--jp-content-font-color1, black)));\n",
       "  --sklearn-color-icon: #696969;\n",
       "\n",
       "  @media (prefers-color-scheme: dark) {\n",
       "    /* Redefinition of color scheme for dark theme */\n",
       "    --sklearn-color-text-on-default-background: var(--sg-text-color, var(--theme-code-foreground, var(--jp-content-font-color1, white)));\n",
       "    --sklearn-color-background: var(--sg-background-color, var(--theme-background, var(--jp-layout-color0, #111)));\n",
       "    --sklearn-color-border-box: var(--sg-text-color, var(--theme-code-foreground, var(--jp-content-font-color1, white)));\n",
       "    --sklearn-color-icon: #878787;\n",
       "  }\n",
       "}\n",
       "\n",
       "#sk-container-id-1 {\n",
       "  color: var(--sklearn-color-text);\n",
       "}\n",
       "\n",
       "#sk-container-id-1 pre {\n",
       "  padding: 0;\n",
       "}\n",
       "\n",
       "#sk-container-id-1 input.sk-hidden--visually {\n",
       "  border: 0;\n",
       "  clip: rect(1px 1px 1px 1px);\n",
       "  clip: rect(1px, 1px, 1px, 1px);\n",
       "  height: 1px;\n",
       "  margin: -1px;\n",
       "  overflow: hidden;\n",
       "  padding: 0;\n",
       "  position: absolute;\n",
       "  width: 1px;\n",
       "}\n",
       "\n",
       "#sk-container-id-1 div.sk-dashed-wrapped {\n",
       "  border: 1px dashed var(--sklearn-color-line);\n",
       "  margin: 0 0.4em 0.5em 0.4em;\n",
       "  box-sizing: border-box;\n",
       "  padding-bottom: 0.4em;\n",
       "  background-color: var(--sklearn-color-background);\n",
       "}\n",
       "\n",
       "#sk-container-id-1 div.sk-container {\n",
       "  /* jupyter's `normalize.less` sets `[hidden] { display: none; }`\n",
       "     but bootstrap.min.css set `[hidden] { display: none !important; }`\n",
       "     so we also need the `!important` here to be able to override the\n",
       "     default hidden behavior on the sphinx rendered scikit-learn.org.\n",
       "     See: https://github.com/scikit-learn/scikit-learn/issues/21755 */\n",
       "  display: inline-block !important;\n",
       "  position: relative;\n",
       "}\n",
       "\n",
       "#sk-container-id-1 div.sk-text-repr-fallback {\n",
       "  display: none;\n",
       "}\n",
       "\n",
       "div.sk-parallel-item,\n",
       "div.sk-serial,\n",
       "div.sk-item {\n",
       "  /* draw centered vertical line to link estimators */\n",
       "  background-image: linear-gradient(var(--sklearn-color-text-on-default-background), var(--sklearn-color-text-on-default-background));\n",
       "  background-size: 2px 100%;\n",
       "  background-repeat: no-repeat;\n",
       "  background-position: center center;\n",
       "}\n",
       "\n",
       "/* Parallel-specific style estimator block */\n",
       "\n",
       "#sk-container-id-1 div.sk-parallel-item::after {\n",
       "  content: \"\";\n",
       "  width: 100%;\n",
       "  border-bottom: 2px solid var(--sklearn-color-text-on-default-background);\n",
       "  flex-grow: 1;\n",
       "}\n",
       "\n",
       "#sk-container-id-1 div.sk-parallel {\n",
       "  display: flex;\n",
       "  align-items: stretch;\n",
       "  justify-content: center;\n",
       "  background-color: var(--sklearn-color-background);\n",
       "  position: relative;\n",
       "}\n",
       "\n",
       "#sk-container-id-1 div.sk-parallel-item {\n",
       "  display: flex;\n",
       "  flex-direction: column;\n",
       "}\n",
       "\n",
       "#sk-container-id-1 div.sk-parallel-item:first-child::after {\n",
       "  align-self: flex-end;\n",
       "  width: 50%;\n",
       "}\n",
       "\n",
       "#sk-container-id-1 div.sk-parallel-item:last-child::after {\n",
       "  align-self: flex-start;\n",
       "  width: 50%;\n",
       "}\n",
       "\n",
       "#sk-container-id-1 div.sk-parallel-item:only-child::after {\n",
       "  width: 0;\n",
       "}\n",
       "\n",
       "/* Serial-specific style estimator block */\n",
       "\n",
       "#sk-container-id-1 div.sk-serial {\n",
       "  display: flex;\n",
       "  flex-direction: column;\n",
       "  align-items: center;\n",
       "  background-color: var(--sklearn-color-background);\n",
       "  padding-right: 1em;\n",
       "  padding-left: 1em;\n",
       "}\n",
       "\n",
       "\n",
       "/* Toggleable style: style used for estimator/Pipeline/ColumnTransformer box that is\n",
       "clickable and can be expanded/collapsed.\n",
       "- Pipeline and ColumnTransformer use this feature and define the default style\n",
       "- Estimators will overwrite some part of the style using the `sk-estimator` class\n",
       "*/\n",
       "\n",
       "/* Pipeline and ColumnTransformer style (default) */\n",
       "\n",
       "#sk-container-id-1 div.sk-toggleable {\n",
       "  /* Default theme specific background. It is overwritten whether we have a\n",
       "  specific estimator or a Pipeline/ColumnTransformer */\n",
       "  background-color: var(--sklearn-color-background);\n",
       "}\n",
       "\n",
       "/* Toggleable label */\n",
       "#sk-container-id-1 label.sk-toggleable__label {\n",
       "  cursor: pointer;\n",
       "  display: block;\n",
       "  width: 100%;\n",
       "  margin-bottom: 0;\n",
       "  padding: 0.5em;\n",
       "  box-sizing: border-box;\n",
       "  text-align: center;\n",
       "}\n",
       "\n",
       "#sk-container-id-1 label.sk-toggleable__label-arrow:before {\n",
       "  /* Arrow on the left of the label */\n",
       "  content: \"▸\";\n",
       "  float: left;\n",
       "  margin-right: 0.25em;\n",
       "  color: var(--sklearn-color-icon);\n",
       "}\n",
       "\n",
       "#sk-container-id-1 label.sk-toggleable__label-arrow:hover:before {\n",
       "  color: var(--sklearn-color-text);\n",
       "}\n",
       "\n",
       "/* Toggleable content - dropdown */\n",
       "\n",
       "#sk-container-id-1 div.sk-toggleable__content {\n",
       "  max-height: 0;\n",
       "  max-width: 0;\n",
       "  overflow: hidden;\n",
       "  text-align: left;\n",
       "  /* unfitted */\n",
       "  background-color: var(--sklearn-color-unfitted-level-0);\n",
       "}\n",
       "\n",
       "#sk-container-id-1 div.sk-toggleable__content.fitted {\n",
       "  /* fitted */\n",
       "  background-color: var(--sklearn-color-fitted-level-0);\n",
       "}\n",
       "\n",
       "#sk-container-id-1 div.sk-toggleable__content pre {\n",
       "  margin: 0.2em;\n",
       "  border-radius: 0.25em;\n",
       "  color: var(--sklearn-color-text);\n",
       "  /* unfitted */\n",
       "  background-color: var(--sklearn-color-unfitted-level-0);\n",
       "}\n",
       "\n",
       "#sk-container-id-1 div.sk-toggleable__content.fitted pre {\n",
       "  /* unfitted */\n",
       "  background-color: var(--sklearn-color-fitted-level-0);\n",
       "}\n",
       "\n",
       "#sk-container-id-1 input.sk-toggleable__control:checked~div.sk-toggleable__content {\n",
       "  /* Expand drop-down */\n",
       "  max-height: 200px;\n",
       "  max-width: 100%;\n",
       "  overflow: auto;\n",
       "}\n",
       "\n",
       "#sk-container-id-1 input.sk-toggleable__control:checked~label.sk-toggleable__label-arrow:before {\n",
       "  content: \"▾\";\n",
       "}\n",
       "\n",
       "/* Pipeline/ColumnTransformer-specific style */\n",
       "\n",
       "#sk-container-id-1 div.sk-label input.sk-toggleable__control:checked~label.sk-toggleable__label {\n",
       "  color: var(--sklearn-color-text);\n",
       "  background-color: var(--sklearn-color-unfitted-level-2);\n",
       "}\n",
       "\n",
       "#sk-container-id-1 div.sk-label.fitted input.sk-toggleable__control:checked~label.sk-toggleable__label {\n",
       "  background-color: var(--sklearn-color-fitted-level-2);\n",
       "}\n",
       "\n",
       "/* Estimator-specific style */\n",
       "\n",
       "/* Colorize estimator box */\n",
       "#sk-container-id-1 div.sk-estimator input.sk-toggleable__control:checked~label.sk-toggleable__label {\n",
       "  /* unfitted */\n",
       "  background-color: var(--sklearn-color-unfitted-level-2);\n",
       "}\n",
       "\n",
       "#sk-container-id-1 div.sk-estimator.fitted input.sk-toggleable__control:checked~label.sk-toggleable__label {\n",
       "  /* fitted */\n",
       "  background-color: var(--sklearn-color-fitted-level-2);\n",
       "}\n",
       "\n",
       "#sk-container-id-1 div.sk-label label.sk-toggleable__label,\n",
       "#sk-container-id-1 div.sk-label label {\n",
       "  /* The background is the default theme color */\n",
       "  color: var(--sklearn-color-text-on-default-background);\n",
       "}\n",
       "\n",
       "/* On hover, darken the color of the background */\n",
       "#sk-container-id-1 div.sk-label:hover label.sk-toggleable__label {\n",
       "  color: var(--sklearn-color-text);\n",
       "  background-color: var(--sklearn-color-unfitted-level-2);\n",
       "}\n",
       "\n",
       "/* Label box, darken color on hover, fitted */\n",
       "#sk-container-id-1 div.sk-label.fitted:hover label.sk-toggleable__label.fitted {\n",
       "  color: var(--sklearn-color-text);\n",
       "  background-color: var(--sklearn-color-fitted-level-2);\n",
       "}\n",
       "\n",
       "/* Estimator label */\n",
       "\n",
       "#sk-container-id-1 div.sk-label label {\n",
       "  font-family: monospace;\n",
       "  font-weight: bold;\n",
       "  display: inline-block;\n",
       "  line-height: 1.2em;\n",
       "}\n",
       "\n",
       "#sk-container-id-1 div.sk-label-container {\n",
       "  text-align: center;\n",
       "}\n",
       "\n",
       "/* Estimator-specific */\n",
       "#sk-container-id-1 div.sk-estimator {\n",
       "  font-family: monospace;\n",
       "  border: 1px dotted var(--sklearn-color-border-box);\n",
       "  border-radius: 0.25em;\n",
       "  box-sizing: border-box;\n",
       "  margin-bottom: 0.5em;\n",
       "  /* unfitted */\n",
       "  background-color: var(--sklearn-color-unfitted-level-0);\n",
       "}\n",
       "\n",
       "#sk-container-id-1 div.sk-estimator.fitted {\n",
       "  /* fitted */\n",
       "  background-color: var(--sklearn-color-fitted-level-0);\n",
       "}\n",
       "\n",
       "/* on hover */\n",
       "#sk-container-id-1 div.sk-estimator:hover {\n",
       "  /* unfitted */\n",
       "  background-color: var(--sklearn-color-unfitted-level-2);\n",
       "}\n",
       "\n",
       "#sk-container-id-1 div.sk-estimator.fitted:hover {\n",
       "  /* fitted */\n",
       "  background-color: var(--sklearn-color-fitted-level-2);\n",
       "}\n",
       "\n",
       "/* Specification for estimator info (e.g. \"i\" and \"?\") */\n",
       "\n",
       "/* Common style for \"i\" and \"?\" */\n",
       "\n",
       ".sk-estimator-doc-link,\n",
       "a:link.sk-estimator-doc-link,\n",
       "a:visited.sk-estimator-doc-link {\n",
       "  float: right;\n",
       "  font-size: smaller;\n",
       "  line-height: 1em;\n",
       "  font-family: monospace;\n",
       "  background-color: var(--sklearn-color-background);\n",
       "  border-radius: 1em;\n",
       "  height: 1em;\n",
       "  width: 1em;\n",
       "  text-decoration: none !important;\n",
       "  margin-left: 1ex;\n",
       "  /* unfitted */\n",
       "  border: var(--sklearn-color-unfitted-level-1) 1pt solid;\n",
       "  color: var(--sklearn-color-unfitted-level-1);\n",
       "}\n",
       "\n",
       ".sk-estimator-doc-link.fitted,\n",
       "a:link.sk-estimator-doc-link.fitted,\n",
       "a:visited.sk-estimator-doc-link.fitted {\n",
       "  /* fitted */\n",
       "  border: var(--sklearn-color-fitted-level-1) 1pt solid;\n",
       "  color: var(--sklearn-color-fitted-level-1);\n",
       "}\n",
       "\n",
       "/* On hover */\n",
       "div.sk-estimator:hover .sk-estimator-doc-link:hover,\n",
       ".sk-estimator-doc-link:hover,\n",
       "div.sk-label-container:hover .sk-estimator-doc-link:hover,\n",
       ".sk-estimator-doc-link:hover {\n",
       "  /* unfitted */\n",
       "  background-color: var(--sklearn-color-unfitted-level-3);\n",
       "  color: var(--sklearn-color-background);\n",
       "  text-decoration: none;\n",
       "}\n",
       "\n",
       "div.sk-estimator.fitted:hover .sk-estimator-doc-link.fitted:hover,\n",
       ".sk-estimator-doc-link.fitted:hover,\n",
       "div.sk-label-container:hover .sk-estimator-doc-link.fitted:hover,\n",
       ".sk-estimator-doc-link.fitted:hover {\n",
       "  /* fitted */\n",
       "  background-color: var(--sklearn-color-fitted-level-3);\n",
       "  color: var(--sklearn-color-background);\n",
       "  text-decoration: none;\n",
       "}\n",
       "\n",
       "/* Span, style for the box shown on hovering the info icon */\n",
       ".sk-estimator-doc-link span {\n",
       "  display: none;\n",
       "  z-index: 9999;\n",
       "  position: relative;\n",
       "  font-weight: normal;\n",
       "  right: .2ex;\n",
       "  padding: .5ex;\n",
       "  margin: .5ex;\n",
       "  width: min-content;\n",
       "  min-width: 20ex;\n",
       "  max-width: 50ex;\n",
       "  color: var(--sklearn-color-text);\n",
       "  box-shadow: 2pt 2pt 4pt #999;\n",
       "  /* unfitted */\n",
       "  background: var(--sklearn-color-unfitted-level-0);\n",
       "  border: .5pt solid var(--sklearn-color-unfitted-level-3);\n",
       "}\n",
       "\n",
       ".sk-estimator-doc-link.fitted span {\n",
       "  /* fitted */\n",
       "  background: var(--sklearn-color-fitted-level-0);\n",
       "  border: var(--sklearn-color-fitted-level-3);\n",
       "}\n",
       "\n",
       ".sk-estimator-doc-link:hover span {\n",
       "  display: block;\n",
       "}\n",
       "\n",
       "/* \"?\"-specific style due to the `<a>` HTML tag */\n",
       "\n",
       "#sk-container-id-1 a.estimator_doc_link {\n",
       "  float: right;\n",
       "  font-size: 1rem;\n",
       "  line-height: 1em;\n",
       "  font-family: monospace;\n",
       "  background-color: var(--sklearn-color-background);\n",
       "  border-radius: 1rem;\n",
       "  height: 1rem;\n",
       "  width: 1rem;\n",
       "  text-decoration: none;\n",
       "  /* unfitted */\n",
       "  color: var(--sklearn-color-unfitted-level-1);\n",
       "  border: var(--sklearn-color-unfitted-level-1) 1pt solid;\n",
       "}\n",
       "\n",
       "#sk-container-id-1 a.estimator_doc_link.fitted {\n",
       "  /* fitted */\n",
       "  border: var(--sklearn-color-fitted-level-1) 1pt solid;\n",
       "  color: var(--sklearn-color-fitted-level-1);\n",
       "}\n",
       "\n",
       "/* On hover */\n",
       "#sk-container-id-1 a.estimator_doc_link:hover {\n",
       "  /* unfitted */\n",
       "  background-color: var(--sklearn-color-unfitted-level-3);\n",
       "  color: var(--sklearn-color-background);\n",
       "  text-decoration: none;\n",
       "}\n",
       "\n",
       "#sk-container-id-1 a.estimator_doc_link.fitted:hover {\n",
       "  /* fitted */\n",
       "  background-color: var(--sklearn-color-fitted-level-3);\n",
       "}\n",
       "</style><div id=\"sk-container-id-1\" class=\"sk-top-container\"><div class=\"sk-text-repr-fallback\"><pre>LogisticRegression()</pre><b>In a Jupyter environment, please rerun this cell to show the HTML representation or trust the notebook. <br />On GitHub, the HTML representation is unable to render, please try loading this page with nbviewer.org.</b></div><div class=\"sk-container\" hidden><div class=\"sk-item\"><div class=\"sk-estimator fitted sk-toggleable\"><input class=\"sk-toggleable__control sk-hidden--visually\" id=\"sk-estimator-id-1\" type=\"checkbox\" checked><label for=\"sk-estimator-id-1\" class=\"sk-toggleable__label fitted sk-toggleable__label-arrow fitted\">&nbsp;&nbsp;LogisticRegression<a class=\"sk-estimator-doc-link fitted\" rel=\"noreferrer\" target=\"_blank\" href=\"https://scikit-learn.org/1.5/modules/generated/sklearn.linear_model.LogisticRegression.html\">?<span>Documentation for LogisticRegression</span></a><span class=\"sk-estimator-doc-link fitted\">i<span>Fitted</span></span></label><div class=\"sk-toggleable__content fitted\"><pre>LogisticRegression()</pre></div> </div></div></div></div>"
      ],
      "text/plain": [
       "LogisticRegression()"
      ]
     },
     "execution_count": 16,
     "metadata": {},
     "output_type": "execute_result"
    }
   ],
   "source": [
    "X_train = np.concatenate((losses_train_mia, losses_val_mia)).reshape(-1, 1)\n",
    "y_train = np.concatenate((np.ones(len(losses_train_mia)), np.zeros(len(losses_val_mia))))\n",
    "\n",
    "classifier = LogisticRegression()\n",
    "classifier.fit(X_train, y_train)"
   ]
  },
  {
   "cell_type": "code",
   "execution_count": 21,
   "metadata": {},
   "outputs": [],
   "source": [
    "y_losses_train = classifier.predict(np.array(losses_train_mia).reshape(-1, 1))"
   ]
  },
  {
   "cell_type": "code",
   "execution_count": 32,
   "metadata": {},
   "outputs": [],
   "source": [
    "train_loss_error = len(y_losses_train) - sum(y_losses_train)"
   ]
  },
  {
   "cell_type": "code",
   "execution_count": 23,
   "metadata": {},
   "outputs": [],
   "source": [
    "y_losses_val = classifier.predict(np.array(losses_val_mia).reshape(-1, 1))"
   ]
  },
  {
   "cell_type": "code",
   "execution_count": 33,
   "metadata": {},
   "outputs": [],
   "source": [
    "val_error = sum(y_losses_val)"
   ]
  },
  {
   "cell_type": "code",
   "execution_count": 25,
   "metadata": {},
   "outputs": [],
   "source": [
    "y_losses_forget = classifier.predict(np.array(losses_forget_mia).reshape(-1, 1))"
   ]
  },
  {
   "cell_type": "code",
   "execution_count": 29,
   "metadata": {},
   "outputs": [
    {
     "data": {
      "text/plain": [
       "1607.0"
      ]
     },
     "execution_count": 29,
     "metadata": {},
     "output_type": "execute_result"
    }
   ],
   "source": [
    "sum(y_losses_forget)"
   ]
  },
  {
   "cell_type": "code",
   "execution_count": 30,
   "metadata": {},
   "outputs": [
    {
     "data": {
      "text/plain": [
       "4000"
      ]
     },
     "execution_count": 30,
     "metadata": {},
     "output_type": "execute_result"
    }
   ],
   "source": [
    "len(y_losses_forget)"
   ]
  },
  {
   "cell_type": "code",
   "execution_count": 8,
   "metadata": {},
   "outputs": [
    {
     "name": "stdout",
     "output_type": "stream",
     "text": [
      "Loaded weights from /home/gasanoe/HOME_SCRATCH_FOLDER/unlearning/logs/model_resnet18_sam_True_rho_0.5_lr_0.1_07-03-09:33:15_model.pth\n",
      "Model 'resnet18' loaded successfully!\n",
      "Number of layers: 62\n",
      "Total parameters: 11227812\n",
      "Trainable parameters: 11227812\n",
      "Loaded weights from /home/gasanoe/HOME_SCRATCH_FOLDER/unlearning/logs/model_resnet18_lr_0.1_untrain07-24-18:25:20_eu_9_at_shot_epoch_0_model.pth\n",
      "Model 'resnet18' loaded successfully!\n",
      "Number of layers: 62\n",
      "Total parameters: 11227812\n",
      "Trainable parameters: 11227812\n",
      "Loaded weights from /home/gasanoe/HOME_SCRATCH_FOLDER/unlearning/logs/model_resnet18_lr_0.1_07-23-09:24:12_model.pth\n",
      "Model 'resnet18' loaded successfully!\n",
      "Number of layers: 62\n",
      "Total parameters: 11227812\n",
      "Trainable parameters: 11227812\n"
     ]
    }
   ],
   "source": [
    "for key in ['original_model', 'euk', 'retrain']:\n",
    "    weight_path=log_dir_dict_finetuned[key]+'_model.pth'\n",
    "    all_values_retain_top5[key] = return_acc(weight_path, retain_loader, k=5)"
   ]
  },
  {
   "cell_type": "code",
   "execution_count": 9,
   "metadata": {},
   "outputs": [
    {
     "data": {
      "text/plain": [
       "{'SCRUB': 70.3857421875,\n",
       " 'neggradplus': 73.291015625,\n",
       " 'our_method': 97.6806640625,\n",
       " 'original_model': 99.66754913330078,\n",
       " 'euk': 4.515735626220703,\n",
       " 'retrain': 99.98614501953125}"
      ]
     },
     "execution_count": 9,
     "metadata": {},
     "output_type": "execute_result"
    }
   ],
   "source": [
    "all_values_retain_top5"
   ]
  },
  {
   "cell_type": "code",
   "execution_count": 10,
   "metadata": {},
   "outputs": [
    {
     "name": "stdout",
     "output_type": "stream",
     "text": [
      "/home/gasanoe/HOME_SCRATCH_FOLDER/unlearning/logs/model_resnet18_lr_0.1_untrain07-24-14:34:39_SCRUB/Accuracy_train_top5_forget\n",
      "{'images': [], 'audio': [], 'histograms': [], 'scalars': ['Accuracy/train_top5'], 'distributions': [], 'tensors': [], 'graph': False, 'meta_graph': False, 'run_metadata': []}\n",
      "/home/gasanoe/HOME_SCRATCH_FOLDER/unlearning/logs/model_resnet18_lr_0.2_untrain07-24-14:40:55_neggradplus/Accuracy_train_top5_forget\n",
      "{'images': [], 'audio': [], 'histograms': [], 'scalars': ['Accuracy/train_top5'], 'distributions': [], 'tensors': [], 'graph': False, 'meta_graph': False, 'run_metadata': []}\n",
      "/home/gasanoe/HOME_SCRATCH_FOLDER/unlearning/logs/model_resnet18_lr_0.025_untrain07-24-15:52:07_constrained_lagrange/Accuracy_train_top5_forget\n",
      "{'images': [], 'audio': [], 'histograms': [], 'scalars': ['Accuracy/train_top5'], 'distributions': [], 'tensors': [], 'graph': False, 'meta_graph': False, 'run_metadata': []}\n"
     ]
    }
   ],
   "source": [
    "all_values_forget_top5 = dict()\n",
    "for (key, log_dir) in log_dir_dict_finetuned.items():\n",
    "    if key in ['original_model', 'euk', 'retrain']:\n",
    "        continue\n",
    "\n",
    "    log_dir = log_dir + '/Accuracy_train_top5_forget'\n",
    "    print(log_dir)\n",
    "    # Initialize the event accumulator\n",
    "    event_acc = EventAccumulator(log_dir)\n",
    "    event_acc.Reload()\n",
    "\n",
    "    # Print all available tags (e.g., scalars, histograms, images, etc.)\n",
    "    print(event_acc.Tags())\n",
    "\n",
    "    # Get scalar data for a specific tag\n",
    "    scalar_tag = 'Accuracy/train_top5'\n",
    "    scalar_events = event_acc.Scalars(scalar_tag)\n",
    "\n",
    "    all_values_forget_top5[key] = scalar_events[-1].value"
   ]
  },
  {
   "cell_type": "code",
   "execution_count": 11,
   "metadata": {},
   "outputs": [
    {
     "data": {
      "text/plain": [
       "{'SCRUB': 36.7919921875, 'neggradplus': 37.3046875, 'our_method': 68.896484375}"
      ]
     },
     "execution_count": 11,
     "metadata": {},
     "output_type": "execute_result"
    }
   ],
   "source": [
    "all_values_forget_top5"
   ]
  },
  {
   "cell_type": "code",
   "execution_count": 12,
   "metadata": {},
   "outputs": [
    {
     "name": "stdout",
     "output_type": "stream",
     "text": [
      "Loaded weights from /home/gasanoe/HOME_SCRATCH_FOLDER/unlearning/logs/model_resnet18_sam_True_rho_0.5_lr_0.1_07-03-09:33:15_model.pth\n",
      "Model 'resnet18' loaded successfully!\n",
      "Number of layers: 62\n",
      "Total parameters: 11227812\n",
      "Trainable parameters: 11227812\n",
      "Loaded weights from /home/gasanoe/HOME_SCRATCH_FOLDER/unlearning/logs/model_resnet18_lr_0.1_untrain07-24-18:25:20_eu_9_at_shot_epoch_0_model.pth\n",
      "Model 'resnet18' loaded successfully!\n",
      "Number of layers: 62\n",
      "Total parameters: 11227812\n",
      "Trainable parameters: 11227812\n",
      "Loaded weights from /home/gasanoe/HOME_SCRATCH_FOLDER/unlearning/logs/model_resnet18_lr_0.1_07-23-09:24:12_model.pth\n",
      "Model 'resnet18' loaded successfully!\n",
      "Number of layers: 62\n",
      "Total parameters: 11227812\n",
      "Trainable parameters: 11227812\n"
     ]
    }
   ],
   "source": [
    "for key in ['original_model', 'euk', 'retrain']:\n",
    "    weight_path=log_dir_dict_finetuned[key]+'_model.pth'\n",
    "    all_values_forget_top5[key] = return_acc(weight_path, forget_loader, k=5)"
   ]
  },
  {
   "cell_type": "code",
   "execution_count": 13,
   "metadata": {},
   "outputs": [
    {
     "data": {
      "text/plain": [
       "{'SCRUB': 36.7919921875,\n",
       " 'neggradplus': 37.3046875,\n",
       " 'our_method': 68.896484375,\n",
       " 'original_model': 99.6826171875,\n",
       " 'euk': 4.150390625,\n",
       " 'retrain': 72.75390625}"
      ]
     },
     "execution_count": 13,
     "metadata": {},
     "output_type": "execute_result"
    }
   ],
   "source": [
    "all_values_forget_top5"
   ]
  },
  {
   "cell_type": "code",
   "execution_count": 14,
   "metadata": {},
   "outputs": [
    {
     "name": "stdout",
     "output_type": "stream",
     "text": [
      "/home/gasanoe/HOME_SCRATCH_FOLDER/unlearning/logs/model_resnet18_lr_0.1_untrain07-24-14:34:39_SCRUB\n",
      "{'images': [], 'audio': [], 'histograms': [], 'scalars': ['Loss/val', 'Accuracy/val_top1', 'Accuracy/val_top5'], 'distributions': [], 'tensors': [], 'graph': True, 'meta_graph': False, 'run_metadata': ['step1']}\n",
      "/home/gasanoe/HOME_SCRATCH_FOLDER/unlearning/logs/model_resnet18_lr_0.2_untrain07-24-14:40:55_neggradplus\n",
      "{'images': [], 'audio': [], 'histograms': [], 'scalars': ['Loss/val', 'Accuracy/val_top1', 'Accuracy/val_top5'], 'distributions': [], 'tensors': [], 'graph': True, 'meta_graph': False, 'run_metadata': ['step1']}\n",
      "/home/gasanoe/HOME_SCRATCH_FOLDER/unlearning/logs/model_resnet18_lr_0.025_untrain07-24-15:52:07_constrained_lagrange\n",
      "{'images': [], 'audio': [], 'histograms': [], 'scalars': ['Loss/val', 'Accuracy/val_top1', 'Accuracy/val_top5', 'grad/train'], 'distributions': [], 'tensors': [], 'graph': True, 'meta_graph': False, 'run_metadata': ['step1']}\n"
     ]
    }
   ],
   "source": [
    "all_values_validation_top5 = dict()\n",
    "for (key, log_dir) in log_dir_dict_finetuned.items():\n",
    "    if key in ['original_model', 'euk', 'retrain']:\n",
    "        continue\n",
    "    \n",
    "    # log_dir = log_dir + '/Accuracy_train_top5_val'\n",
    "    print(log_dir)\n",
    "    # Initialize the event accumulator\n",
    "    event_acc = EventAccumulator(log_dir)\n",
    "    event_acc.Reload()\n",
    "\n",
    "    # Print all available tags (e.g., scalars, histograms, images, etc.)\n",
    "    print(event_acc.Tags())\n",
    "\n",
    "    # Get scalar data for a specific tag\n",
    "    scalar_tag = 'Accuracy/val_top5'\n",
    "    scalar_events = event_acc.Scalars(scalar_tag)\n",
    "\n",
    "    all_values_validation_top5[key] = scalar_events[-1].value"
   ]
  },
  {
   "cell_type": "code",
   "execution_count": 17,
   "metadata": {},
   "outputs": [
    {
     "data": {
      "text/plain": [
       "{'SCRUB': 47.517799377441406,\n",
       " 'neggradplus': 48.279273986816406,\n",
       " 'our_method': 64.84375,\n",
       " 'original_model': 75.03955841064453,\n",
       " 'euk': 4.460047721862793,\n",
       " 'retrain': 70.84651947021484}"
      ]
     },
     "execution_count": 17,
     "metadata": {},
     "output_type": "execute_result"
    }
   ],
   "source": [
    "all_values_validation_top5"
   ]
  },
  {
   "cell_type": "code",
   "execution_count": 18,
   "metadata": {},
   "outputs": [
    {
     "name": "stdout",
     "output_type": "stream",
     "text": [
      "Loaded weights from /home/gasanoe/HOME_SCRATCH_FOLDER/unlearning/logs/model_resnet18_sam_True_rho_0.5_lr_0.1_07-03-09:33:15_model.pth\n",
      "Model 'resnet18' loaded successfully!\n",
      "Number of layers: 62\n",
      "Total parameters: 11227812\n",
      "Trainable parameters: 11227812\n",
      "Loaded weights from /home/gasanoe/HOME_SCRATCH_FOLDER/unlearning/logs/model_resnet18_lr_0.1_untrain07-24-18:25:20_eu_9_at_shot_epoch_0_model.pth\n",
      "Model 'resnet18' loaded successfully!\n",
      "Number of layers: 62\n",
      "Total parameters: 11227812\n",
      "Trainable parameters: 11227812\n",
      "Loaded weights from /home/gasanoe/HOME_SCRATCH_FOLDER/unlearning/logs/model_resnet18_lr_0.1_07-23-09:24:12_model.pth\n",
      "Model 'resnet18' loaded successfully!\n",
      "Number of layers: 62\n",
      "Total parameters: 11227812\n",
      "Trainable parameters: 11227812\n"
     ]
    }
   ],
   "source": [
    "for key in ['original_model', 'euk', 'retrain']:\n",
    "    weight_path=log_dir_dict_finetuned[key]+'_model.pth'\n",
    "    all_values_validation_top5[key] = return_acc(weight_path, val_loader, k=5)"
   ]
  },
  {
   "cell_type": "code",
   "execution_count": 19,
   "metadata": {},
   "outputs": [
    {
     "data": {
      "text/plain": [
       "{'SCRUB': 47.517799377441406,\n",
       " 'neggradplus': 48.279273986816406,\n",
       " 'our_method': 64.84375,\n",
       " 'original_model': 75.7911376953125,\n",
       " 'euk': 4.49960470199585,\n",
       " 'retrain': 71.11353302001953}"
      ]
     },
     "execution_count": 19,
     "metadata": {},
     "output_type": "execute_result"
    }
   ],
   "source": [
    "all_values_validation_top5"
   ]
  },
  {
   "cell_type": "markdown",
   "metadata": {},
   "source": [
    "### MIA"
   ]
  },
  {
   "cell_type": "code",
   "execution_count": 8,
   "metadata": {},
   "outputs": [],
   "source": [
    "num_samples_mia = 5000\n",
    "\n",
    "train_indices = retain_loader.sampler.indices[:num_samples_mia]\n",
    "val_indices = val_loader.sampler.indices[:num_samples_mia]\n",
    "\n",
    "assert len(train_indices) == len(val_indices)\n",
    "assert len(train_indices) == num_samples_mia\n",
    "\n",
    "sampler_train_mia = torch.utils.data.SubsetRandomSampler(train_indices)\n",
    "sampler_val_mia = torch.utils.data.SubsetRandomSampler(val_indices)\n",
    "\n",
    "train_loader_mia = torch.utils.data.DataLoader(retain_loader.dataset,\n",
    "                                               batch_size=128,\n",
    "                                               sampler=sampler_train_mia)\n",
    "val_loader_mia = torch.utils.data.DataLoader(val_loader.dataset,\n",
    "                                             batch_size=128,\n",
    "                                             sampler=sampler_val_mia)"
   ]
  },
  {
   "cell_type": "code",
   "execution_count": 21,
   "metadata": {},
   "outputs": [
    {
     "name": "stdout",
     "output_type": "stream",
     "text": [
      "Loaded weights from /home/gasanoe/HOME_SCRATCH_FOLDER/unlearning/logs/model_resnet18_lr_0.1_untrain07-24-14:34:39_SCRUB_model.pth\n",
      "Model 'resnet18' loaded successfully!\n",
      "Number of layers: 62\n",
      "Total parameters: 11227812\n",
      "Trainable parameters: 11227812\n",
      "Loaded weights from /home/gasanoe/HOME_SCRATCH_FOLDER/unlearning/logs/model_resnet18_lr_0.2_untrain07-24-14:40:55_neggradplus_model.pth\n",
      "Model 'resnet18' loaded successfully!\n",
      "Number of layers: 62\n",
      "Total parameters: 11227812\n",
      "Trainable parameters: 11227812\n",
      "Loaded weights from /home/gasanoe/HOME_SCRATCH_FOLDER/unlearning/logs/model_resnet18_lr_0.1_untrain07-24-18:25:20_eu_9_at_shot_epoch_0_model.pth\n",
      "Model 'resnet18' loaded successfully!\n",
      "Number of layers: 62\n",
      "Total parameters: 11227812\n",
      "Trainable parameters: 11227812\n",
      "Loaded weights from /home/gasanoe/HOME_SCRATCH_FOLDER/unlearning/logs/model_resnet18_lr_0.025_untrain07-24-15:52:07_constrained_lagrange_model.pth\n",
      "Model 'resnet18' loaded successfully!\n",
      "Number of layers: 62\n",
      "Total parameters: 11227812\n",
      "Trainable parameters: 11227812\n",
      "Loaded weights from /home/gasanoe/HOME_SCRATCH_FOLDER/unlearning/logs/model_resnet18_sam_True_rho_0.5_lr_0.1_07-03-09:33:15_model.pth\n",
      "Model 'resnet18' loaded successfully!\n",
      "Number of layers: 62\n",
      "Total parameters: 11227812\n",
      "Trainable parameters: 11227812\n",
      "Loaded weights from /home/gasanoe/HOME_SCRATCH_FOLDER/unlearning/logs/model_resnet18_lr_0.1_07-23-09:24:12_model.pth\n",
      "Model 'resnet18' loaded successfully!\n",
      "Number of layers: 62\n",
      "Total parameters: 11227812\n",
      "Trainable parameters: 11227812\n"
     ]
    }
   ],
   "source": [
    "all_values_mia = dict()\n",
    "for (key, log_dir) in log_dir_dict_finetuned.items():\n",
    "    weight_path = log_dir + '_model.pth'\n",
    "    model = get_model('resnet18', num_classes=100, pretrained_weights=None, weight_path=weight_path)\n",
    "    model.eval()\n",
    "    device = torch.device('cuda')\n",
    "    model.to(device)\n",
    "    all_values_mia[key] = mia_efficacy(model, train_loader_mia, val_loader_mia, forget_loader=forget_loader, device=device, loss_fn=torch.nn.CrossEntropyLoss(reduction='none'))"
   ]
  },
  {
   "cell_type": "code",
   "execution_count": 22,
   "metadata": {},
   "outputs": [],
   "source": [
    "for key, value in all_values_mia.items():\n",
    "    all_values_mia[key] = value * 100"
   ]
  },
  {
   "cell_type": "code",
   "execution_count": 23,
   "metadata": {},
   "outputs": [
    {
     "data": {
      "text/plain": [
       "{'SCRUB': 60.35,\n",
       " 'neggradplus': 62.3,\n",
       " 'euk': 48.449999999999996,\n",
       " 'our_method': 49.775000000000006,\n",
       " 'original_model': 3.0,\n",
       " 'retrain': 59.575}"
      ]
     },
     "execution_count": 23,
     "metadata": {},
     "output_type": "execute_result"
    }
   ],
   "source": [
    "all_values_mia"
   ]
  },
  {
   "cell_type": "markdown",
   "metadata": {},
   "source": [
    "# Radar charts"
   ]
  },
  {
   "cell_type": "code",
   "execution_count": 24,
   "metadata": {},
   "outputs": [],
   "source": [
    "# Sample data\n",
    "labels = ['Test \\n accuracy', 'Retain accuracy', 'Forget \\n accuracy', 'MIA']\n",
    "categories = log_dir_dict_finetuned.keys()\n",
    "my_data = dict()\n",
    "for key in categories:\n",
    "    my_data[key] = [all_values_validation_top5[key], \n",
    "                    all_values_retain_top5[key],\n",
    "                    all_values_forget_top5[key],\n",
    "                    all_values_mia[key]]\n",
    "# data = {\n",
    "#     'Finetuning': [80, 85, 40, 90],\n",
    "#     'Fisher': [70, 80, 35, 85],\n",
    "#     'NegGrad+': [85, 90, 50, 95],\n",
    "#     'CF-k': [60, 65, 30, 75],\n",
    "#     'EU-k': [75, 80, 45, 85],\n",
    "#     'Bad-T': [50, 55, 20, 60],\n",
    "#     'SCRUB': [90, 95, 55, 100]\n",
    "# }"
   ]
  },
  {
   "cell_type": "code",
   "execution_count": 25,
   "metadata": {},
   "outputs": [],
   "source": [
    "# Number of variables\n",
    "num_vars = len(labels)\n",
    "\n",
    "# Compute angle of each axis\n",
    "angles = np.linspace(0, 2 * np.pi, num_vars, endpoint=False).tolist()"
   ]
  },
  {
   "cell_type": "code",
   "execution_count": 26,
   "metadata": {},
   "outputs": [],
   "source": [
    "angles += angles[:1]"
   ]
  },
  {
   "cell_type": "code",
   "execution_count": 27,
   "metadata": {},
   "outputs": [
    {
     "data": {
      "text/plain": [
       "[0.0, 1.5707963267948966, 3.141592653589793, 4.71238898038469, 0.0]"
      ]
     },
     "execution_count": 27,
     "metadata": {},
     "output_type": "execute_result"
    }
   ],
   "source": [
    "angles"
   ]
  },
  {
   "cell_type": "code",
   "execution_count": 28,
   "metadata": {},
   "outputs": [
    {
     "data": {
      "image/png": "[encoded data removed]",
      "text/plain": [
       "<Figure size 600x600 with 1 Axes>"
      ]
     },
     "metadata": {},
     "output_type": "display_data"
    }
   ],
   "source": [
    "# Initialize the radar plot\n",
    "fig, ax = plt.subplots(figsize=(6, 6), subplot_kw=dict(polar=True))\n",
    "\n",
    "# Plot each category\n",
    "for category in categories:\n",
    "    values = copy.deepcopy(my_data[category])\n",
    "    values += values[:1]\n",
    "    ax.plot(angles, values, label=category)\n",
    "\n",
    "# Add labels\n",
    "ax.set_yticks([10, 25, 50, 75, 100])\n",
    "ax.set_yticklabels([10, 25, 50, 75, 100])\n",
    "ax.set_xticks(angles[:-1])\n",
    "ax.set_xticklabels(labels, fontsize=12)\n",
    "\n",
    "# Center the labels on the circumference\n",
    "for label, angle in zip(ax.get_xticklabels(), angles):\n",
    "    if angle in (0, np.pi):\n",
    "        label.set_horizontalalignment('center')\n",
    "    elif 0 < angle < np.pi:\n",
    "        label.set_horizontalalignment('left')\n",
    "    else:\n",
    "        label.set_horizontalalignment('right')\n",
    "\n",
    "ax.set_ylim(0, 100)\n",
    "\n",
    "# Remove the circumference line\n",
    "ax.spines['polar'].set_visible(False)\n",
    "\n",
    "# Add legend\n",
    "ax.legend(loc='upper right', bbox_to_anchor=(1.3, 1.1))\n",
    "\n",
    "plt.tight_layout()\n",
    "plt.savefig('plots/radar_chart_unlearning.pdf')"
   ]
  },
  {
   "cell_type": "code",
   "execution_count": null,
   "metadata": {},
   "outputs": [],
   "source": []
  }
 ],
 "metadata": {
  "kernelspec": {
   "display_name": "Python 3 (ipykernel)",
   "language": "python",
   "name": "python3"
  },
  "language_info": {
   "codemirror_mode": {
    "name": "ipython",
    "version": 3
   },
   "file_extension": ".py",
   "mimetype": "text/x-python",
   "name": "python",
   "nbconvert_exporter": "python",
   "pygments_lexer": "ipython3",
   "version": "3.11.5"
  }
 },
 "nbformat": 4,
 "nbformat_minor": 2
}
