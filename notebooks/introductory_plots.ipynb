{
 "cells": [
  {
   "cell_type": "code",
   "execution_count": 6,
   "metadata": {},
   "outputs": [],
   "source": [
    "from matplotlib import pyplot as plt\n",
    "import numpy as np\n",
    "import seaborn as sns\n",
    "import scipy"
   ]
  },
  {
   "cell_type": "code",
   "execution_count": 7,
   "metadata": {},
   "outputs": [],
   "source": [
    "from tensorboard.backend.event_processing.event_accumulator import EventAccumulator"
   ]
  },
  {
   "cell_type": "code",
   "execution_count": 8,
   "metadata": {},
   "outputs": [],
   "source": [
    "log_dirs = [\n",
    "    #'/home/gasanoe/HOME_SCRATCH_FOLDER/unlearning/logs/model_resnet18_lr_0.1_untrain07-24-14:34:39_SCRUB'\n",
    "    '/home/gasanoe/HOME_SCRATCH_FOLDER/unlearning/logs/model_resnet18_lr_0.025_untrain07-24-15:52:07_constrained_lagrange'\n",
    "    ]"
   ]
  },
  {
   "cell_type": "code",
   "execution_count": 9,
   "metadata": {},
   "outputs": [],
   "source": [
    "markers = ['*', 'd', 'o', '>', '.', '<', 'D']"
   ]
  },
  {
   "cell_type": "markdown",
   "metadata": {},
   "source": [
    "# Downloading the dataset"
   ]
  },
  {
   "cell_type": "code",
   "execution_count": 10,
   "metadata": {},
   "outputs": [],
   "source": [
    "import data"
   ]
  },
  {
   "cell_type": "code",
   "execution_count": 11,
   "metadata": {},
   "outputs": [
    {
     "name": "stdout",
     "output_type": "stream",
     "text": [
      "Files already downloaded and verified\n",
      "Files already downloaded and verified\n"
     ]
    }
   ],
   "source": [
    "dataset_handler = data.CIFAR100Handler(batch_size=128,\n",
    "                                       validation_split=0.1,\n",
    "                                       random_seed=42,\n",
    "                                       data_dir='/home/gasanoe/HOME_SCRATCH_FOLDER/unlearning/data/cifar100')\n",
    "data_confuser = data.uniform_confuser(confuse_level=.0, random_seed=42)\n",
    "splitter = data.mix_both_sets(\n",
    "    amend_split=1.,\n",
    "    retain_split=0.1,\n",
    "    random_seed=42\n",
    "    )\n",
    "confused_dataset_handler = data.AmendedDatasetHandler(\n",
    "    dataset_handler,\n",
    "    data_confuser,\n",
    "    splitter,\n",
    "    class_wise_corr=True\n",
    "    )\n",
    "train_loader, val_loader, test_loader, forget_loader, retain_loader, unseen_loader = confused_dataset_handler.get_dataloaders()"
   ]
  },
  {
   "cell_type": "markdown",
   "metadata": {},
   "source": [
    "# Accuracy @ 5 on the retained set plots"
   ]
  },
  {
   "cell_type": "code",
   "execution_count": 12,
   "metadata": {},
   "outputs": [
    {
     "name": "stdout",
     "output_type": "stream",
     "text": [
      "/home/gasanoe/HOME_SCRATCH_FOLDER/unlearning/logs/model_resnet18_lr_0.025_untrain07-24-15:52:07_constrained_lagrange/Accuracy_train_top5_retain\n",
      "{'images': [], 'audio': [], 'histograms': [], 'scalars': ['Accuracy/train_top5'], 'distributions': [], 'tensors': [], 'graph': False, 'meta_graph': False, 'run_metadata': []}\n"
     ]
    }
   ],
   "source": [
    "all_values_retain = []\n",
    "for log_dir in log_dirs:\n",
    "    log_dir = log_dir + '/Accuracy_train_top5_retain'\n",
    "    print(log_dir)\n",
    "    # Initialize the event accumulator\n",
    "    event_acc = EventAccumulator(log_dir)\n",
    "    event_acc.Reload()\n",
    "\n",
    "    # Print all available tags (e.g., scalars, histograms, images, etc.)\n",
    "    print(event_acc.Tags())\n",
    "\n",
    "    # Get scalar data for a specific tag\n",
    "    scalar_tag = 'Accuracy/train_top5'  # Change to the tag you are interested in\n",
    "    scalar_events = event_acc.Scalars(scalar_tag)\n",
    "\n",
    "    # Extract steps and values\n",
    "    epochs = [event.step for event in scalar_events]\n",
    "    values = [event.value for event in scalar_events]\n",
    "\n",
    "    all_values_retain.append(values)"
   ]
  },
  {
   "cell_type": "code",
   "execution_count": 13,
   "metadata": {},
   "outputs": [
    {
     "data": {
      "text/plain": [
       "[[99.755859375,\n",
       "  99.70703125,\n",
       "  99.609375,\n",
       "  99.609375,\n",
       "  99.2431640625,\n",
       "  97.802734375,\n",
       "  97.265625,\n",
       "  97.55859375,\n",
       "  97.705078125,\n",
       "  98.6083984375,\n",
       "  97.705078125,\n",
       "  97.9248046875,\n",
       "  97.6806640625]]"
      ]
     },
     "execution_count": 13,
     "metadata": {},
     "output_type": "execute_result"
    }
   ],
   "source": [
    "all_values_retain"
   ]
  },
  {
   "cell_type": "markdown",
   "metadata": {},
   "source": [
    "# Accuracy @ 5 on the forget set"
   ]
  },
  {
   "cell_type": "code",
   "execution_count": 14,
   "metadata": {},
   "outputs": [
    {
     "name": "stdout",
     "output_type": "stream",
     "text": [
      "/home/gasanoe/HOME_SCRATCH_FOLDER/unlearning/logs/model_resnet18_lr_0.025_untrain07-24-15:52:07_constrained_lagrange/Accuracy_train_top5_forget\n",
      "{'images': [], 'audio': [], 'histograms': [], 'scalars': ['Accuracy/train_top5'], 'distributions': [], 'tensors': [], 'graph': False, 'meta_graph': False, 'run_metadata': []}\n"
     ]
    }
   ],
   "source": [
    "all_values_forget = []\n",
    "for log_dir in log_dirs:\n",
    "    log_dir = log_dir + '/Accuracy_train_top5_forget'\n",
    "    print(log_dir)\n",
    "    # Initialize the event accumulator\n",
    "    event_acc = EventAccumulator(log_dir)\n",
    "    event_acc.Reload()\n",
    "\n",
    "    # Print all available tags (e.g., scalars, histograms, images, etc.)\n",
    "    print(event_acc.Tags())\n",
    "\n",
    "    # Get scalar data for a specific tag\n",
    "    scalar_tag = 'Accuracy/train_top5'  # Change to the tag you are interested in\n",
    "    scalar_events = event_acc.Scalars(scalar_tag)\n",
    "\n",
    "    # Extract steps and values\n",
    "    epochs = [event.step for event in scalar_events]\n",
    "    values = [event.value for event in scalar_events]\n",
    "\n",
    "    all_values_forget.append(values)"
   ]
  },
  {
   "cell_type": "code",
   "execution_count": 15,
   "metadata": {},
   "outputs": [
    {
     "name": "stderr",
     "output_type": "stream",
     "text": [
      "/ibex/scratch/gasanoe/unlearning/env/lib/python3.11/site-packages/tqdm/auto.py:21: TqdmWarning: IProgress not found. Please update jupyter and ipywidgets. See https://ipywidgets.readthedocs.io/en/stable/user_install.html\n",
      "  from .autonotebook import tqdm as notebook_tqdm\n"
     ]
    }
   ],
   "source": [
    "from models import get_model\n",
    "from metrics import calculate_accuracy\n",
    "import torch"
   ]
  },
  {
   "cell_type": "code",
   "execution_count": 16,
   "metadata": {},
   "outputs": [],
   "source": [
    "import matplotlib.colors as mcolors"
   ]
  },
  {
   "cell_type": "code",
   "execution_count": 17,
   "metadata": {},
   "outputs": [],
   "source": [
    "all_values_forget = np.array(all_values_forget[0])\n",
    "all_values_retain = np.array(all_values_retain[0])"
   ]
  },
  {
   "cell_type": "code",
   "execution_count": 18,
   "metadata": {},
   "outputs": [],
   "source": [
    "from matplotlib.collections import PolyCollection"
   ]
  },
  {
   "cell_type": "code",
   "execution_count": 19,
   "metadata": {},
   "outputs": [],
   "source": [
    "plt.rcParams.update({'font.size': 16})"
   ]
  },
  {
   "cell_type": "code",
   "execution_count": 20,
   "metadata": {},
   "outputs": [
    {
     "data": {
      "image/png": "[encoded data removed]",
      "text/plain": [
       "<Figure size 640x480 with 1 Axes>"
      ]
     },
     "metadata": {},
     "output_type": "display_data"
    }
   ],
   "source": [
    "marker = ['o', 'x']\n",
    "\n",
    "x = np.arange(13)\n",
    "\n",
    "# Create the plot\n",
    "fig, ax = plt.subplots()\n",
    "\n",
    "# Plot the data\n",
    "ax.plot(x, all_values_retain, label=r'Accuracy on $Data_A$', marker=marker[0])\n",
    "ax.plot(x, all_values_forget, label=r'Accuracy on $Data_B$', marker=marker[1])\n",
    "\n",
    "# Fill the space between the two lines with angled lines (hatching)\n",
    "ax.fill_between(x, all_values_retain, all_values_forget, color=(0.5, 0.5, 0.5, 0.2), hatch='/', edgecolor='gray')\n",
    "\n",
    "# Labels and grid\n",
    "ax.set_xlabel('Unlearning steps')\n",
    "ax.set_ylabel('Accuracy, %')\n",
    "ax.set_ylim(bottom=0, top=100)\n",
    "# ax.grid()\n",
    "ax.set_xlim(left=0, right=12)\n",
    "ax.set_xticks(np.arange(0, 13, 1))\n",
    "ax.legend()\n",
    "plt.tight_layout()\n",
    "\n",
    "# Save or show the plot\n",
    "# plt.savefig('plots/scrub_plot_for_presentation.pdf')\n",
    "# plt.savefig('plots/constrained_plot_for_presentation.pdf')\n",
    "plt.show()"
   ]
  }
 ],
 "metadata": {
  "kernelspec": {
   "display_name": "Python 3 (ipykernel)",
   "language": "python",
   "name": "python3"
  }
 },
 "nbformat": 4,
 "nbformat_minor": 2
}
